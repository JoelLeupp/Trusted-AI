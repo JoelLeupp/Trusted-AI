{
 "cells": [
  {
   "cell_type": "code",
   "execution_count": 1,
   "id": "102902ba",
   "metadata": {},
   "outputs": [],
   "source": [
    "import numpy as np\n",
    "import pickle\n",
    "import statistics\n",
    "\n",
    "from xgboost import XGBClassifier\n",
    "from sympy.core.numbers import igcd\n",
    "from datetime import datetime\n",
    "\n",
    "from sklearn import preprocessing\n",
    "from sklearn import svm\n",
    "from sklearn import preprocessing\n",
    "from sklearn.ensemble import RandomForestClassifier\n",
    "from sklearn.tree import DecisionTreeClassifier\n",
    "\n",
    "from sklearn.model_selection import train_test_split\n",
    "from sklearn.model_selection import cross_val_predict\n",
    "from sklearn.model_selection import GridSearchCV\n",
    "from sklearn.model_selection import RandomizedSearchCV\n",
    "\n",
    "from sklearn.preprocessing import MinMaxScaler,QuantileTransformer\n",
    "from sklearn.neighbors import KNeighborsClassifier\n",
    "from sklearn.naive_bayes import GaussianNB\n",
    "\n",
    "from sklearn.metrics import confusion_matrix,classification_report\n",
    "from sklearn.metrics import accuracy_score\n",
    "from sklearn.metrics import precision_recall_fscore_support as score\n",
    "\n",
    "import seaborn as sn\n",
    "import pandas as pd\n",
    "import matplotlib.pyplot as plt\n",
    "import os\n",
    "import time\n",
    "import random"
   ]
  },
  {
   "cell_type": "code",
   "execution_count": 2,
   "id": "631bd66c",
   "metadata": {},
   "outputs": [],
   "source": [
    "train_data = pickle.load( open( \"train_data.pkl\", \"rb\" ) )\n",
    "test_data = pickle.load( open( \"test_data.pkl\", \"rb\" ) )"
   ]
  },
  {
   "cell_type": "code",
   "execution_count": 3,
   "id": "f3f80d85",
   "metadata": {},
   "outputs": [],
   "source": [
    "X_train = train_data.iloc[:,:-1]\n",
    "y_train = train_data.iloc[:,-1: ]\n",
    "\n",
    "X_test = test_data.iloc[:,:-1]\n",
    "y_test = test_data.iloc[:,-1: ]"
   ]
  },
  {
   "cell_type": "code",
   "execution_count": 4,
   "id": "4c5ad485",
   "metadata": {
    "scrolled": true
   },
   "outputs": [
    {
     "name": "stderr",
     "output_type": "stream",
     "text": [
      "<ipython-input-4-dae857d863ef>:15: DeprecationWarning: `np.int` is a deprecated alias for the builtin `int`. To silence this warning, use `int` by itself. Doing this will not modify any behavior and is safe. When replacing `np.int`, you may wish to use e.g. `np.int64` or `np.int32` to specify the precision. If you wish to review your current use, check the release note link for additional information.\n",
      "Deprecated in NumPy 1.20; for more details and guidance: https://numpy.org/devdocs/release/1.20.0-notes.html#deprecations\n",
      "  lr.fit(scaledXTrain, y_train.values.ravel().astype(np.int))\n"
     ]
    },
    {
     "name": "stdout",
     "output_type": "stream",
     "text": [
      "0.8547297297297297\n"
     ]
    },
    {
     "name": "stderr",
     "output_type": "stream",
     "text": [
      "/Library/Frameworks/Python.framework/Versions/3.9/lib/python3.9/site-packages/sklearn/linear_model/_logistic.py:763: ConvergenceWarning: lbfgs failed to converge (status=1):\n",
      "STOP: TOTAL NO. of ITERATIONS REACHED LIMIT.\n",
      "\n",
      "Increase the number of iterations (max_iter) or scale the data as shown in:\n",
      "    https://scikit-learn.org/stable/modules/preprocessing.html\n",
      "Please also refer to the documentation for alternative solver options:\n",
      "    https://scikit-learn.org/stable/modules/linear_model.html#logistic-regression\n",
      "  n_iter_i = _check_optimize_result(\n"
     ]
    }
   ],
   "source": [
    "from sklearn.linear_model import LogisticRegression\n",
    "from sklearn.preprocessing import StandardScaler\n",
    "\n",
    "scaler = StandardScaler()\n",
    "scaler.fit(X_train)\n",
    "scaledXTrain = scaler.transform(X_train)\n",
    "\n",
    "scaledXTest = scaler.transform(X_test)\n",
    "\n",
    "scaledXTrain = pd.DataFrame(scaledXTrain)\n",
    "scaledXTest = pd.DataFrame(scaledXTest)\n",
    "lr = LogisticRegression()\n",
    "\n",
    "#y_train_pred = cross_val_predict(svc, scaledXTrain, y_train , cv=5)\n",
    "lr.fit(scaledXTrain, y_train.values.ravel().astype(np.int))\n",
    "\n",
    "pickle.dump(lr, open(\"lr.sav\", 'wb'))\n",
    "# Test with the testing set\n",
    "y_pred_svc = lr.predict(scaledXTest)\n",
    "\n",
    "# Print Accuracy and confusion matrix\n",
    "print(accuracy_score(y_test,y_pred_svc))\n",
    "before_attack = accuracy_score(y_test,y_pred_svc)"
   ]
  },
  {
   "cell_type": "code",
   "execution_count": 5,
   "id": "3851f29e",
   "metadata": {},
   "outputs": [
    {
     "name": "stdout",
     "output_type": "stream",
     "text": [
      "0.8547297297297297\n"
     ]
    }
   ],
   "source": [
    "model = pickle.load( open( \"lr.sav\", \"rb\" ) )\n",
    "y_pred_svc = lr.predict(scaledXTest)\n",
    "\n",
    "# Print Accuracy and confusion matrix\n",
    "print(accuracy_score(y_test,y_pred_svc))\n"
   ]
  },
  {
   "cell_type": "code",
   "execution_count": null,
   "id": "8ec05b03",
   "metadata": {},
   "outputs": [],
   "source": []
  }
 ],
 "metadata": {
  "kernelspec": {
   "display_name": "Python 3",
   "language": "python",
   "name": "python3"
  },
  "language_info": {
   "codemirror_mode": {
    "name": "ipython",
    "version": 3
   },
   "file_extension": ".py",
   "mimetype": "text/x-python",
   "name": "python",
   "nbconvert_exporter": "python",
   "pygments_lexer": "ipython3",
   "version": "3.9.5"
  }
 },
 "nbformat": 4,
 "nbformat_minor": 5
}
