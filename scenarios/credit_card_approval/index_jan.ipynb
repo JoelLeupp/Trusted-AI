{
 "cells": [
  {
   "cell_type": "markdown",
   "id": "7bba3ab1-714b-4f4a-949d-8e05751f17c8",
   "metadata": {},
   "source": [
    "# Scenario - Credit Card Approval"
   ]
  },
  {
   "cell_type": "code",
   "execution_count": 36,
   "id": "f0b8125b-bc12-443d-9812-6d25e69592f7",
   "metadata": {},
   "outputs": [],
   "source": [
    "import os\n",
    "import sys\n",
    "from sklearn.metrics import accuracy_score\n",
    "sys.path.insert(1, \"../\")\n",
    "try:\n",
    "    from helpers import save_solution\n",
    "except Exception as e:\n",
    "    print(e)"
   ]
  },
  {
   "cell_type": "code",
   "execution_count": 37,
   "id": "148c4e53-bfa1-4130-932d-f9ce896dd879",
   "metadata": {},
   "outputs": [
    {
     "name": "stdout",
     "output_type": "stream",
     "text": [
      "\n"
     ]
    }
   ],
   "source": [
    "from factsheet import Factsheet\n",
    "factsheet = Factsheet()\n",
    "\n",
    "factsheet.set_question_fairness(3)\n",
    "factsheet.set_protected_feature(\"Group\")\n",
    "factsheet.set_protected_group(\"lambda x: x[protected_feature] == 1\")\n",
    "factsheet.set_target_column(\"Target\")\n",
    "factsheet.set_favorable_outcome(\"lambda x: x[target_column] == 1\")"
   ]
  },
  {
   "cell_type": "code",
   "execution_count": 3,
   "id": "a0a2767a-2164-4aa5-a9ae-4f82700eb141",
   "metadata": {},
   "outputs": [],
   "source": [
    "# Load all necessary packages\n",
    "#import os\n",
    "#import sys\n",
    "#sys.path.insert(1, \"../\")  \n",
    "  \n",
    "import numpy as np\n",
    "np.random.seed(0)\n",
    "\n",
    "import matplotlib.pyplot as plt\n",
    "\n",
    "import pandas as pd\n",
    "import sklearn\n",
    "import pickle\n",
    "from aif360.datasets import GermanDataset\n",
    "from aif360.metrics import BinaryLabelDatasetMetric\n",
    "from aif360.algorithms.preprocessing import Reweighing\n",
    "\n",
    "from sklearn.metrics import confusion_matrix\n",
    "from sklearn.metrics import classification_report\n",
    "\n",
    "from IPython.display import Markdown, display"
   ]
  },
  {
   "cell_type": "code",
   "execution_count": 4,
   "id": "61a320e9-fefc-413f-9703-b582253033b1",
   "metadata": {},
   "outputs": [
    {
     "data": {
      "text/html": [
       "<div>\n",
       "<style scoped>\n",
       "    .dataframe tbody tr th:only-of-type {\n",
       "        vertical-align: middle;\n",
       "    }\n",
       "\n",
       "    .dataframe tbody tr th {\n",
       "        vertical-align: top;\n",
       "    }\n",
       "\n",
       "    .dataframe thead th {\n",
       "        text-align: right;\n",
       "    }\n",
       "</style>\n",
       "<table border=\"1\" class=\"dataframe\">\n",
       "  <thead>\n",
       "    <tr style=\"text-align: right;\">\n",
       "      <th></th>\n",
       "      <th>Num_Children</th>\n",
       "      <th>Group</th>\n",
       "      <th>Income</th>\n",
       "      <th>Own_Car</th>\n",
       "      <th>Own_Housing</th>\n",
       "      <th>Target</th>\n",
       "    </tr>\n",
       "  </thead>\n",
       "  <tbody>\n",
       "    <tr>\n",
       "      <th>0</th>\n",
       "      <td>4</td>\n",
       "      <td>0</td>\n",
       "      <td>36151</td>\n",
       "      <td>0</td>\n",
       "      <td>0</td>\n",
       "      <td>0</td>\n",
       "    </tr>\n",
       "    <tr>\n",
       "      <th>1</th>\n",
       "      <td>0</td>\n",
       "      <td>0</td>\n",
       "      <td>36095</td>\n",
       "      <td>1</td>\n",
       "      <td>0</td>\n",
       "      <td>0</td>\n",
       "    </tr>\n",
       "    <tr>\n",
       "      <th>2</th>\n",
       "      <td>2</td>\n",
       "      <td>1</td>\n",
       "      <td>62110</td>\n",
       "      <td>1</td>\n",
       "      <td>1</td>\n",
       "      <td>0</td>\n",
       "    </tr>\n",
       "    <tr>\n",
       "      <th>3</th>\n",
       "      <td>0</td>\n",
       "      <td>1</td>\n",
       "      <td>73644</td>\n",
       "      <td>1</td>\n",
       "      <td>0</td>\n",
       "      <td>0</td>\n",
       "    </tr>\n",
       "    <tr>\n",
       "      <th>4</th>\n",
       "      <td>3</td>\n",
       "      <td>0</td>\n",
       "      <td>99146</td>\n",
       "      <td>0</td>\n",
       "      <td>0</td>\n",
       "      <td>1</td>\n",
       "    </tr>\n",
       "  </tbody>\n",
       "</table>\n",
       "</div>"
      ],
      "text/plain": [
       "   Num_Children  Group  Income  Own_Car  Own_Housing  Target\n",
       "0             4      0   36151        0            0       0\n",
       "1             0      0   36095        1            0       0\n",
       "2             2      1   62110        1            1       0\n",
       "3             0      1   73644        1            0       0\n",
       "4             3      0   99146        0            0       1"
      ]
     },
     "execution_count": 4,
     "metadata": {},
     "output_type": "execute_result"
    }
   ],
   "source": [
    "data = pd.read_csv(\"./data/data.csv\", nrows=60000)\n",
    "data.head(5)"
   ]
  },
  {
   "cell_type": "code",
   "execution_count": 5,
   "id": "3c441708-2272-4b56-9ecd-c88c20df3050",
   "metadata": {},
   "outputs": [
    {
     "name": "stdout",
     "output_type": "stream",
     "text": [
      "Number of samples: 60000\n"
     ]
    }
   ],
   "source": [
    "print(\"Number of samples: {}\".format(len(data)))"
   ]
  },
  {
   "cell_type": "code",
   "execution_count": 6,
   "id": "1134255e-26ec-493f-812a-8765bb6cb7bd",
   "metadata": {},
   "outputs": [],
   "source": [
    "target_column = \"Target\""
   ]
  },
  {
   "cell_type": "code",
   "execution_count": 7,
   "id": "b9a766b7-d71d-46fd-a3f9-093bee6cd51d",
   "metadata": {},
   "outputs": [
    {
     "data": {
      "text/html": [
       "<div>\n",
       "<style scoped>\n",
       "    .dataframe tbody tr th:only-of-type {\n",
       "        vertical-align: middle;\n",
       "    }\n",
       "\n",
       "    .dataframe tbody tr th {\n",
       "        vertical-align: top;\n",
       "    }\n",
       "\n",
       "    .dataframe thead th {\n",
       "        text-align: right;\n",
       "    }\n",
       "</style>\n",
       "<table border=\"1\" class=\"dataframe\">\n",
       "  <thead>\n",
       "    <tr style=\"text-align: right;\">\n",
       "      <th></th>\n",
       "      <th>Num_Children</th>\n",
       "      <th>Group</th>\n",
       "      <th>Income</th>\n",
       "      <th>Own_Car</th>\n",
       "      <th>Own_Housing</th>\n",
       "    </tr>\n",
       "  </thead>\n",
       "  <tbody>\n",
       "    <tr>\n",
       "      <th>0</th>\n",
       "      <td>4</td>\n",
       "      <td>0</td>\n",
       "      <td>36151</td>\n",
       "      <td>0</td>\n",
       "      <td>0</td>\n",
       "    </tr>\n",
       "    <tr>\n",
       "      <th>1</th>\n",
       "      <td>0</td>\n",
       "      <td>0</td>\n",
       "      <td>36095</td>\n",
       "      <td>1</td>\n",
       "      <td>0</td>\n",
       "    </tr>\n",
       "    <tr>\n",
       "      <th>2</th>\n",
       "      <td>2</td>\n",
       "      <td>1</td>\n",
       "      <td>62110</td>\n",
       "      <td>1</td>\n",
       "      <td>1</td>\n",
       "    </tr>\n",
       "    <tr>\n",
       "      <th>3</th>\n",
       "      <td>0</td>\n",
       "      <td>1</td>\n",
       "      <td>73644</td>\n",
       "      <td>1</td>\n",
       "      <td>0</td>\n",
       "    </tr>\n",
       "    <tr>\n",
       "      <th>4</th>\n",
       "      <td>3</td>\n",
       "      <td>0</td>\n",
       "      <td>99146</td>\n",
       "      <td>0</td>\n",
       "      <td>0</td>\n",
       "    </tr>\n",
       "  </tbody>\n",
       "</table>\n",
       "</div>"
      ],
      "text/plain": [
       "   Num_Children  Group  Income  Own_Car  Own_Housing\n",
       "0             4      0   36151        0            0\n",
       "1             0      0   36095        1            0\n",
       "2             2      1   62110        1            1\n",
       "3             0      1   73644        1            0\n",
       "4             3      0   99146        0            0"
      ]
     },
     "execution_count": 7,
     "metadata": {},
     "output_type": "execute_result"
    }
   ],
   "source": [
    "X = data.loc[:, data.columns != target_column]\n",
    "X.head(5)"
   ]
  },
  {
   "cell_type": "code",
   "execution_count": 8,
   "id": "c772820b-0d32-47e1-a320-676c75372558",
   "metadata": {},
   "outputs": [
    {
     "data": {
      "text/html": [
       "<div>\n",
       "<style scoped>\n",
       "    .dataframe tbody tr th:only-of-type {\n",
       "        vertical-align: middle;\n",
       "    }\n",
       "\n",
       "    .dataframe tbody tr th {\n",
       "        vertical-align: top;\n",
       "    }\n",
       "\n",
       "    .dataframe thead th {\n",
       "        text-align: right;\n",
       "    }\n",
       "</style>\n",
       "<table border=\"1\" class=\"dataframe\">\n",
       "  <thead>\n",
       "    <tr style=\"text-align: right;\">\n",
       "      <th></th>\n",
       "      <th>Target</th>\n",
       "    </tr>\n",
       "  </thead>\n",
       "  <tbody>\n",
       "    <tr>\n",
       "      <th>0</th>\n",
       "      <td>0</td>\n",
       "    </tr>\n",
       "    <tr>\n",
       "      <th>1</th>\n",
       "      <td>0</td>\n",
       "    </tr>\n",
       "    <tr>\n",
       "      <th>2</th>\n",
       "      <td>0</td>\n",
       "    </tr>\n",
       "    <tr>\n",
       "      <th>3</th>\n",
       "      <td>0</td>\n",
       "    </tr>\n",
       "    <tr>\n",
       "      <th>4</th>\n",
       "      <td>1</td>\n",
       "    </tr>\n",
       "  </tbody>\n",
       "</table>\n",
       "</div>"
      ],
      "text/plain": [
       "   Target\n",
       "0       0\n",
       "1       0\n",
       "2       0\n",
       "3       0\n",
       "4       1"
      ]
     },
     "execution_count": 8,
     "metadata": {},
     "output_type": "execute_result"
    }
   ],
   "source": [
    "y = data.loc[:, data.columns == target_column]\n",
    "y.head(5)"
   ]
  },
  {
   "cell_type": "code",
   "execution_count": 10,
   "id": "a0ee49c0-d8b7-40df-80a0-28115e47cc01",
   "metadata": {},
   "outputs": [],
   "source": [
    "from sklearn.model_selection import train_test_split\n",
    "X_train, X_test, y_train, y_test = train_test_split(X, y, test_size=0.2, random_state=42)\n",
    "train_data = pd.concat([X_train, y_train], axis=1)\n",
    "test_data = pd.concat([X_test, y_test], axis=1)"
   ]
  },
  {
   "cell_type": "markdown",
   "id": "9efab8a0-db4e-42c2-80c5-dc0b825de96a",
   "metadata": {},
   "source": [
    "### Statistical Parity Difference"
   ]
  },
  {
   "cell_type": "code",
   "execution_count": 24,
   "id": "4d653f37-230f-43cc-8b0b-e45a69f85379",
   "metadata": {},
   "outputs": [],
   "source": [
    "import operator\n",
    "\n",
    "target_column = \"Target\"\n",
    "favorable_outome = lambda x: x[target_column]==1\n",
    "\n",
    "protected_feature = \"Group\"\n",
    "protected = lambda x: x[protected_feature]==0\n",
    "protected_indices = data.apply(protected, axis=1)"
   ]
  },
  {
   "cell_type": "code",
   "execution_count": 25,
   "id": "45d900f5-47be-4cf0-94dc-e579cb8e4fc6",
   "metadata": {},
   "outputs": [
    {
     "name": "stdout",
     "output_type": "stream",
     "text": [
      "49389/249675 = 0.1978131571042355\n"
     ]
    }
   ],
   "source": [
    "minority = data[protected_indices]\n",
    "minority_size = len(minority)\n",
    "favored_minority = minority[minority.apply(favorable_outome, axis=1)]\n",
    "favored_minority_size = len(favored_minority)\n",
    "favored_minority_ratio = favored_minority_size/minority_size\n",
    "print(\"{0}/{1} = {2}\".format(favored_minority_size, minority_size, favored_minority_ratio))"
   ]
  },
  {
   "cell_type": "code",
   "execution_count": 26,
   "id": "43745de2-6543-4dc8-b1f8-4b7a32bca958",
   "metadata": {},
   "outputs": [
    {
     "name": "stdout",
     "output_type": "stream",
     "text": [
      "143924/250325 = 0.574948566863078\n"
     ]
    }
   ],
   "source": [
    "majority = data[~protected_indices]\n",
    "majority_size = len(majority)\n",
    "favored_majority = majority[majority.apply(favorable_outome, axis=1)]\n",
    "favored_majority_size = len(favored_majority)\n",
    "favored_majority_ratio = favored_majority_size/majority_size\n",
    "print(\"{0}/{1} = {2}\".format(favored_majority_size, majority_size, favored_majority_ratio))"
   ]
  },
  {
   "cell_type": "code",
   "execution_count": 27,
   "id": "54b18f12-fd71-4082-80b1-4dc76e6fddf0",
   "metadata": {},
   "outputs": [
    {
     "name": "stdout",
     "output_type": "stream",
     "text": [
      "-0.3771354097588425\n"
     ]
    }
   ],
   "source": [
    "statistical_parity_difference = favored_minority_ratio - favored_majority_ratio\n",
    "print(statistical_parity_difference)"
   ]
  },
  {
   "cell_type": "markdown",
   "id": "b2d763a8-9150-4f86-a12c-211b06a146f6",
   "metadata": {},
   "source": [
    "### 1. SVM"
   ]
  },
  {
   "cell_type": "code",
   "execution_count": 45,
   "id": "9408ef0a-527f-4fe6-9794-c6682afdf5f8",
   "metadata": {},
   "outputs": [
    {
     "name": "stdout",
     "output_type": "stream",
     "text": [
      "[LibSVM].......\n",
      "Warning: using -h 0 may be faster\n",
      "*\n",
      "optimization finished, #iter = 7748\n",
      "obj = -7336.730041, rho = -1.542540\n",
      "nSV = 7372, nBSV = 7370\n",
      "Total nSV = 7372\n",
      ".......\n",
      "Warning: using -h 0 may be faster\n",
      "*\n",
      "optimization finished, #iter = 7822\n",
      "obj = -7511.042528, rho = -1.679441\n",
      "nSV = 7546, nBSV = 7544\n",
      "Total nSV = 7546\n",
      ".......\n",
      "Warning: using -h 0 may be faster\n",
      "*.\n",
      "Warning: using -h 0 may be faster\n",
      "*\n",
      "optimization finished, #iter = 7875\n",
      "obj = -7485.481246, rho = -2.001766\n",
      "nSV = 7522, nBSV = 7520\n",
      "Total nSV = 7522\n",
      "........\n",
      "Warning: using -h 0 may be faster\n",
      "*.\n",
      "Warning: using -h 0 may be faster\n",
      "*\n",
      "optimization finished, #iter = 8083\n",
      "obj = -7514.587675, rho = -2.179099\n",
      "nSV = 7552, nBSV = 7550\n",
      "Total nSV = 7552\n",
      ".......\n",
      "Warning: using -h 0 may be faster\n",
      "*.\n",
      "Warning: using -h 0 may be faster\n",
      "*\n",
      "optimization finished, #iter = 7838\n",
      "obj = -7491.907466, rho = -1.884757\n",
      "nSV = 7528, nBSV = 7526\n",
      "Total nSV = 7528\n",
      ".........\n",
      "Warning: using -h 0 may be faster\n",
      "*\n",
      "optimization finished, #iter = 9622\n",
      "obj = -9326.399502, rho = 2.318357\n",
      "nSV = 9366, nBSV = 9364\n",
      "Total nSV = 9366\n"
     ]
    },
    {
     "data": {
      "text/plain": [
       "SVC(probability=True, verbose=1)"
      ]
     },
     "execution_count": 45,
     "metadata": {},
     "output_type": "execute_result"
    }
   ],
   "source": [
    "from sklearn import svm\n",
    "support_vector_machine_01 = svm.SVC(verbose=1, probability=True)\n",
    "support_vector_machine_01.fit(X_train, y_train.values.ravel())"
   ]
  },
  {
   "cell_type": "code",
   "execution_count": 46,
   "id": "01565acb-08c1-47bf-9113-f752ed16cea8",
   "metadata": {},
   "outputs": [],
   "source": [
    "y_pred = support_vector_machine_01.predict(X_test)"
   ]
  },
  {
   "cell_type": "code",
   "execution_count": 47,
   "id": "e5bcb0bb-f52d-4683-882b-9300fde2ae9e",
   "metadata": {},
   "outputs": [
    {
     "data": {
      "text/plain": [
       "0.9158333333333334"
      ]
     },
     "execution_count": 47,
     "metadata": {},
     "output_type": "execute_result"
    }
   ],
   "source": [
    "accuracy_score(y_test, y_pred)"
   ]
  },
  {
   "cell_type": "code",
   "execution_count": 48,
   "id": "2b34e581-206a-4568-baa8-e94c4e7ec73a",
   "metadata": {},
   "outputs": [
    {
     "name": "stdout",
     "output_type": "stream",
     "text": [
      "base directory /Users/jankreischer/Desktop/Masterproject/Shared/scenarios/credit_card_approval/../../webapp/scenarios/credit_card_approval/solutions/jans_support_vector_machine_01\n"
     ]
    }
   ],
   "source": [
    "save_solution(\"credit_card_approval\", \"jans_support_vector_machine_01\", support_vector_machine_01, train_data, test_data, factsheet, to_webapp=True)"
   ]
  },
  {
   "cell_type": "code",
   "execution_count": 49,
   "id": "c789f5cb-6c7c-46c9-bc67-f3e48ac532df",
   "metadata": {},
   "outputs": [
    {
     "name": "stdout",
     "output_type": "stream",
     "text": [
      "[LibSVM].......\n",
      "Warning: using -h 0 may be faster\n",
      "*\n",
      "optimization finished, #iter = 7891\n",
      "obj = -7503.632622, rho = -1.419943\n",
      "nSV = 7538, nBSV = 7536\n",
      "Total nSV = 7538\n",
      ".......\n",
      "Warning: using -h 0 may be faster\n",
      "*.\n",
      "Warning: using -h 0 may be faster\n",
      "*\n",
      "optimization finished, #iter = 7794\n",
      "obj = -7449.764649, rho = -2.206482\n",
      "nSV = 7488, nBSV = 7486\n",
      "Total nSV = 7488\n",
      ".......\n",
      "Warning: using -h 0 may be faster\n",
      "*\n",
      "optimization finished, #iter = 7736\n",
      "obj = -7458.689983, rho = -2.368770\n",
      "nSV = 7498, nBSV = 7496\n",
      "Total nSV = 7498\n",
      ".......\n",
      "Warning: using -h 0 may be faster\n",
      "*\n",
      "optimization finished, #iter = 7807\n",
      "obj = -7472.208202, rho = -1.615098\n",
      "nSV = 7506, nBSV = 7503\n",
      "Total nSV = 7506\n",
      ".......\n",
      "Warning: using -h 0 may be faster\n",
      "**.\n",
      "Warning: using -h 0 may be faster\n",
      "*\n",
      "optimization finished, #iter = 7966\n",
      "obj = -7455.821821, rho = -1.653242\n",
      "nSV = 7490, nBSV = 7488\n",
      "Total nSV = 7490\n",
      ".........\n",
      "Warning: using -h 0 may be faster\n",
      "*\n",
      "optimization finished, #iter = 9622\n",
      "obj = -9326.399502, rho = 2.318357\n",
      "nSV = 9366, nBSV = 9364\n",
      "Total nSV = 9366\n"
     ]
    },
    {
     "data": {
      "text/plain": [
       "SVC(probability=True, verbose=1)"
      ]
     },
     "execution_count": 49,
     "metadata": {},
     "output_type": "execute_result"
    }
   ],
   "source": [
    "support_vector_machine_02 = svm.SVC(verbose=1, probability=True)\n",
    "support_vector_machine_02.fit(X_train, y_train.values.ravel())"
   ]
  },
  {
   "cell_type": "code",
   "execution_count": 44,
   "id": "63be1204-01ff-4f2c-88b5-9e904ed531d4",
   "metadata": {},
   "outputs": [
    {
     "name": "stdout",
     "output_type": "stream",
     "text": [
      "base directory /Users/jankreischer/Desktop/Masterproject/Shared/scenarios/credit_card_approval/../../webapp/scenarios/credit_card_approval/solutions/jans_support_vector_machine_02\n"
     ]
    }
   ],
   "source": [
    "save_solution(\"credit_card_approval\", \"jans_support_vector_machine_02\", support_vector_machine_02, train_data, test_data, factsheet, to_webapp=True)"
   ]
  },
  {
   "cell_type": "markdown",
   "id": "37b1c79b-4126-41ee-a9b4-7d515e62953f",
   "metadata": {},
   "source": [
    "### 2. k-Nearest Neighbors"
   ]
  },
  {
   "cell_type": "code",
   "execution_count": 9,
   "id": "247c65da-17a5-49b3-bd73-bd8dbcfe1e2f",
   "metadata": {},
   "outputs": [],
   "source": [
    "from sklearn.neighbors import KNeighborsClassifier\n",
    "clf = KNeighborsClassifier(n_neighbors=3)\n",
    "clf.fit(X_train, y_train.values.ravel());"
   ]
  },
  {
   "cell_type": "code",
   "execution_count": 10,
   "id": "95037494-9249-4261-8d91-aa170fc3d189",
   "metadata": {},
   "outputs": [],
   "source": [
    "y_pred = clf.predict(X_test)"
   ]
  },
  {
   "cell_type": "code",
   "execution_count": 11,
   "id": "b3fd3af0-c23e-4110-837a-00fc0b7e60c3",
   "metadata": {},
   "outputs": [
    {
     "name": "stdout",
     "output_type": "stream",
     "text": [
      "[[58107  3120]\n",
      " [ 3371 35402]]\n"
     ]
    }
   ],
   "source": [
    "print(confusion_matrix(y_test,y_pred))"
   ]
  },
  {
   "cell_type": "code",
   "execution_count": 12,
   "id": "a84b9e6c-61ce-4287-bb91-b6486936e745",
   "metadata": {},
   "outputs": [
    {
     "name": "stdout",
     "output_type": "stream",
     "text": [
      "              precision    recall  f1-score   support\n",
      "\n",
      "           0       0.95      0.95      0.95     61227\n",
      "           1       0.92      0.91      0.92     38773\n",
      "\n",
      "    accuracy                           0.94    100000\n",
      "   macro avg       0.93      0.93      0.93    100000\n",
      "weighted avg       0.94      0.94      0.94    100000\n",
      "\n"
     ]
    }
   ],
   "source": [
    "print(classification_report(y_test,y_pred))"
   ]
  },
  {
   "cell_type": "code",
   "execution_count": 38,
   "id": "a4a2d884-b539-4c65-97e1-e40554b8da49",
   "metadata": {},
   "outputs": [
    {
     "ename": "KeyboardInterrupt",
     "evalue": "",
     "output_type": "error",
     "traceback": [
      "\u001b[0;31m---------------------------------------------------------------------------\u001b[0m",
      "\u001b[0;31mKeyboardInterrupt\u001b[0m                         Traceback (most recent call last)",
      "\u001b[0;32m/var/folders/tp/3p4kxwzd4_schmp9mmvj1h4r0000gn/T/ipykernel_31532/492290913.py\u001b[0m in \u001b[0;36m<module>\u001b[0;34m\u001b[0m\n\u001b[1;32m      3\u001b[0m \u001b[0;32mfor\u001b[0m \u001b[0mi\u001b[0m \u001b[0;32min\u001b[0m \u001b[0mrange\u001b[0m\u001b[0;34m(\u001b[0m\u001b[0;36m1\u001b[0m\u001b[0;34m,\u001b[0m\u001b[0;36m11\u001b[0m\u001b[0;34m)\u001b[0m\u001b[0;34m:\u001b[0m\u001b[0;34m\u001b[0m\u001b[0;34m\u001b[0m\u001b[0m\n\u001b[1;32m      4\u001b[0m     \u001b[0mknn\u001b[0m \u001b[0;34m=\u001b[0m \u001b[0mKNeighborsClassifier\u001b[0m\u001b[0;34m(\u001b[0m\u001b[0mn_neighbors\u001b[0m\u001b[0;34m=\u001b[0m\u001b[0mi\u001b[0m\u001b[0;34m)\u001b[0m\u001b[0;34m\u001b[0m\u001b[0;34m\u001b[0m\u001b[0m\n\u001b[0;32m----> 5\u001b[0;31m     \u001b[0mknn\u001b[0m\u001b[0;34m.\u001b[0m\u001b[0mfit\u001b[0m\u001b[0;34m(\u001b[0m\u001b[0mX_train\u001b[0m\u001b[0;34m,\u001b[0m\u001b[0my_train\u001b[0m\u001b[0;34m.\u001b[0m\u001b[0mvalues\u001b[0m\u001b[0;34m.\u001b[0m\u001b[0mravel\u001b[0m\u001b[0;34m(\u001b[0m\u001b[0;34m)\u001b[0m\u001b[0;34m)\u001b[0m\u001b[0;34m\u001b[0m\u001b[0;34m\u001b[0m\u001b[0m\n\u001b[0m\u001b[1;32m      6\u001b[0m     \u001b[0my_pred\u001b[0m \u001b[0;34m=\u001b[0m \u001b[0mknn\u001b[0m\u001b[0;34m.\u001b[0m\u001b[0mpredict\u001b[0m\u001b[0;34m(\u001b[0m\u001b[0mX_test\u001b[0m\u001b[0;34m)\u001b[0m\u001b[0;34m\u001b[0m\u001b[0;34m\u001b[0m\u001b[0m\n\u001b[1;32m      7\u001b[0m     \u001b[0merror_rate\u001b[0m\u001b[0;34m.\u001b[0m\u001b[0mappend\u001b[0m\u001b[0;34m(\u001b[0m\u001b[0mnp\u001b[0m\u001b[0;34m.\u001b[0m\u001b[0mmean\u001b[0m\u001b[0;34m(\u001b[0m\u001b[0my_pred\u001b[0m \u001b[0;34m!=\u001b[0m \u001b[0my_test\u001b[0m\u001b[0;34m.\u001b[0m\u001b[0mvalues\u001b[0m\u001b[0;34m.\u001b[0m\u001b[0mravel\u001b[0m\u001b[0;34m(\u001b[0m\u001b[0;34m)\u001b[0m\u001b[0;34m)\u001b[0m\u001b[0;34m)\u001b[0m\u001b[0;34m\u001b[0m\u001b[0;34m\u001b[0m\u001b[0m\n",
      "\u001b[0;32m/usr/local/anaconda3/envs/UZH_Masterproject/lib/python3.9/site-packages/sklearn/neighbors/_classification.py\u001b[0m in \u001b[0;36mfit\u001b[0;34m(self, X, y)\u001b[0m\n\u001b[1;32m    177\u001b[0m             \u001b[0mThe\u001b[0m \u001b[0mfitted\u001b[0m \u001b[0mk\u001b[0m\u001b[0;34m-\u001b[0m\u001b[0mnearest\u001b[0m \u001b[0mneighbors\u001b[0m \u001b[0mclassifier\u001b[0m\u001b[0;34m.\u001b[0m\u001b[0;34m\u001b[0m\u001b[0;34m\u001b[0m\u001b[0m\n\u001b[1;32m    178\u001b[0m         \"\"\"\n\u001b[0;32m--> 179\u001b[0;31m         \u001b[0;32mreturn\u001b[0m \u001b[0mself\u001b[0m\u001b[0;34m.\u001b[0m\u001b[0m_fit\u001b[0m\u001b[0;34m(\u001b[0m\u001b[0mX\u001b[0m\u001b[0;34m,\u001b[0m \u001b[0my\u001b[0m\u001b[0;34m)\u001b[0m\u001b[0;34m\u001b[0m\u001b[0;34m\u001b[0m\u001b[0m\n\u001b[0m\u001b[1;32m    180\u001b[0m \u001b[0;34m\u001b[0m\u001b[0m\n\u001b[1;32m    181\u001b[0m     \u001b[0;32mdef\u001b[0m \u001b[0mpredict\u001b[0m\u001b[0;34m(\u001b[0m\u001b[0mself\u001b[0m\u001b[0;34m,\u001b[0m \u001b[0mX\u001b[0m\u001b[0;34m)\u001b[0m\u001b[0;34m:\u001b[0m\u001b[0;34m\u001b[0m\u001b[0;34m\u001b[0m\u001b[0m\n",
      "\u001b[0;32m/usr/local/anaconda3/envs/UZH_Masterproject/lib/python3.9/site-packages/sklearn/neighbors/_base.py\u001b[0m in \u001b[0;36m_fit\u001b[0;34m(self, X, y)\u001b[0m\n\u001b[1;32m    501\u001b[0m                                   **self.effective_metric_params_)\n\u001b[1;32m    502\u001b[0m         \u001b[0;32melif\u001b[0m \u001b[0mself\u001b[0m\u001b[0;34m.\u001b[0m\u001b[0m_fit_method\u001b[0m \u001b[0;34m==\u001b[0m \u001b[0;34m'kd_tree'\u001b[0m\u001b[0;34m:\u001b[0m\u001b[0;34m\u001b[0m\u001b[0;34m\u001b[0m\u001b[0m\n\u001b[0;32m--> 503\u001b[0;31m             self._tree = KDTree(X, self.leaf_size,\n\u001b[0m\u001b[1;32m    504\u001b[0m                                 \u001b[0mmetric\u001b[0m\u001b[0;34m=\u001b[0m\u001b[0mself\u001b[0m\u001b[0;34m.\u001b[0m\u001b[0meffective_metric_\u001b[0m\u001b[0;34m,\u001b[0m\u001b[0;34m\u001b[0m\u001b[0;34m\u001b[0m\u001b[0m\n\u001b[1;32m    505\u001b[0m                                 **self.effective_metric_params_)\n",
      "\u001b[0;31mKeyboardInterrupt\u001b[0m: "
     ]
    }
   ],
   "source": [
    "error_rate = []\n",
    "\n",
    "for i in range(1,11):\n",
    "    knn = KNeighborsClassifier(n_neighbors=i)\n",
    "    knn.fit(X_train,y_train.values.ravel())\n",
    "    y_pred = knn.predict(X_test)\n",
    "    error_rate.append(np.mean(y_pred != y_test.values.ravel()))"
   ]
  },
  {
   "cell_type": "code",
   "execution_count": null,
   "id": "57fec515-5a53-4dac-ac7d-fcfb7296111d",
   "metadata": {},
   "outputs": [],
   "source": [
    "plt.figure(figsize=(10,6))\n",
    "plt.plot(range(1,11),error_rate,color='blue', linestyle='dashed', marker='o',\n",
    " markerfacecolor='red', markersize=10)\n",
    "plt.title('Error Rate vs. K Value')\n",
    "plt.xlabel('K')\n",
    "plt.ylabel('Error Rate')"
   ]
  },
  {
   "cell_type": "code",
   "execution_count": 13,
   "id": "abe5bca8-90de-47eb-9c9c-cb9908b86d03",
   "metadata": {},
   "outputs": [
    {
     "name": "stdout",
     "output_type": "stream",
     "text": [
      "[[57813  3414]\n",
      " [ 4666 34107]]\n",
      "              precision    recall  f1-score   support\n",
      "\n",
      "           0       0.93      0.94      0.93     61227\n",
      "           1       0.91      0.88      0.89     38773\n",
      "\n",
      "    accuracy                           0.92    100000\n",
      "   macro avg       0.92      0.91      0.91    100000\n",
      "weighted avg       0.92      0.92      0.92    100000\n",
      "\n"
     ]
    }
   ],
   "source": [
    "# NOW WITH K=20\n",
    "clf_knn_01 = KNeighborsClassifier(n_neighbors=20)\n",
    "clf_knn_01.fit(X_train,y_train.values.ravel())\n",
    "pred = clf_knn_01.predict(X_test)\n",
    "\n",
    "print(confusion_matrix(y_test,pred))\n",
    "\n",
    "print(classification_report(y_test,pred))"
   ]
  },
  {
   "cell_type": "code",
   "execution_count": 14,
   "id": "5312ef6b-56f5-4fe1-94e5-1a38836bdf56",
   "metadata": {},
   "outputs": [
    {
     "name": "stdout",
     "output_type": "stream",
     "text": [
      "base directory /Users/jankreischer/Desktop/Masterproject/Shared/scenarios/credit_card_approval/../../webapp/scenarios/credit_card_approval/solutions/jans_knn_classifier_01\n"
     ]
    }
   ],
   "source": [
    "save_solution(\"credit_card_approval\", \"jans_knn_classifier_01\", clf_knn_01, train_data, test_data, factsheet, to_webapp=True)"
   ]
  },
  {
   "cell_type": "markdown",
   "id": "a7bfa14c-1fcf-4137-b3fd-7a2260f39bee",
   "metadata": {},
   "source": [
    "### Testing Lambda Expressions"
   ]
  },
  {
   "cell_type": "code",
   "execution_count": 33,
   "id": "4cc16a82-e400-4566-86a5-eb17b66ea132",
   "metadata": {},
   "outputs": [
    {
     "name": "stdout",
     "output_type": "stream",
     "text": [
      "[4, 5, 6, 7]\n"
     ]
    }
   ],
   "source": [
    "var = 3\n",
    "inc_by_one = eval(\"lambda x: x+var\")\n",
    "numbers = [1,2,3,4]\n",
    "result = list(map(inc_by_one, numbers))\n",
    "print(result)"
   ]
  },
  {
   "cell_type": "code",
   "execution_count": 185,
   "id": "9dbd4cca-8169-44f6-8283-f441fd317ebc",
   "metadata": {},
   "outputs": [
    {
     "name": "stdout",
     "output_type": "stream",
     "text": [
      "lambda x: x[protected_feature]==1\n",
      "<function <lambda> at 0x7fc865aead30>\n"
     ]
    }
   ],
   "source": [
    "import inspect\n",
    "\n",
    "protected_feature = \"Group\"\n",
    "protected = \"lambda x: x[protected_feature]==1\"\n",
    "print(protected)\n",
    "protected = eval(protected, {\"protected_feature\": protected_feature})\n",
    "print(protected)"
   ]
  },
  {
   "cell_type": "code",
   "execution_count": 186,
   "id": "5e51bc36-621d-40ce-acb3-4ddaf9279859",
   "metadata": {},
   "outputs": [],
   "source": [
    "minority = data[data.apply(protected, axis=1)]"
   ]
  },
  {
   "cell_type": "code",
   "execution_count": 187,
   "id": "9c990cf4-52ea-4cc8-9e63-7bff892ecbe7",
   "metadata": {},
   "outputs": [
    {
     "data": {
      "text/html": [
       "<div>\n",
       "<style scoped>\n",
       "    .dataframe tbody tr th:only-of-type {\n",
       "        vertical-align: middle;\n",
       "    }\n",
       "\n",
       "    .dataframe tbody tr th {\n",
       "        vertical-align: top;\n",
       "    }\n",
       "\n",
       "    .dataframe thead th {\n",
       "        text-align: right;\n",
       "    }\n",
       "</style>\n",
       "<table border=\"1\" class=\"dataframe\">\n",
       "  <thead>\n",
       "    <tr style=\"text-align: right;\">\n",
       "      <th></th>\n",
       "      <th>Num_Children</th>\n",
       "      <th>Group</th>\n",
       "      <th>Income</th>\n",
       "      <th>Own_Car</th>\n",
       "      <th>Own_Housing</th>\n",
       "      <th>Target</th>\n",
       "    </tr>\n",
       "  </thead>\n",
       "  <tbody>\n",
       "    <tr>\n",
       "      <th>2</th>\n",
       "      <td>2</td>\n",
       "      <td>1</td>\n",
       "      <td>62110</td>\n",
       "      <td>1</td>\n",
       "      <td>1</td>\n",
       "      <td>0</td>\n",
       "    </tr>\n",
       "    <tr>\n",
       "      <th>3</th>\n",
       "      <td>0</td>\n",
       "      <td>1</td>\n",
       "      <td>73644</td>\n",
       "      <td>1</td>\n",
       "      <td>0</td>\n",
       "      <td>0</td>\n",
       "    </tr>\n",
       "    <tr>\n",
       "      <th>5</th>\n",
       "      <td>0</td>\n",
       "      <td>1</td>\n",
       "      <td>114086</td>\n",
       "      <td>1</td>\n",
       "      <td>0</td>\n",
       "      <td>1</td>\n",
       "    </tr>\n",
       "    <tr>\n",
       "      <th>7</th>\n",
       "      <td>2</td>\n",
       "      <td>1</td>\n",
       "      <td>83130</td>\n",
       "      <td>1</td>\n",
       "      <td>1</td>\n",
       "      <td>1</td>\n",
       "    </tr>\n",
       "    <tr>\n",
       "      <th>8</th>\n",
       "      <td>2</td>\n",
       "      <td>1</td>\n",
       "      <td>81965</td>\n",
       "      <td>1</td>\n",
       "      <td>0</td>\n",
       "      <td>1</td>\n",
       "    </tr>\n",
       "  </tbody>\n",
       "</table>\n",
       "</div>"
      ],
      "text/plain": [
       "   Num_Children  Group  Income  Own_Car  Own_Housing  Target\n",
       "2             2      1   62110        1            1       0\n",
       "3             0      1   73644        1            0       0\n",
       "5             0      1  114086        1            0       1\n",
       "7             2      1   83130        1            1       1\n",
       "8             2      1   81965        1            0       1"
      ]
     },
     "execution_count": 187,
     "metadata": {},
     "output_type": "execute_result"
    }
   ],
   "source": [
    "minority.head(5)"
   ]
  },
  {
   "cell_type": "code",
   "execution_count": 19,
   "id": "6679fc68-3f91-40b7-8e5a-028c22f11a33",
   "metadata": {},
   "outputs": [
    {
     "name": "stdout",
     "output_type": "stream",
     "text": [
      "{'general': {'target_column': 'target'}}\n"
     ]
    }
   ],
   "source": [
    "factsheet = {\n",
    "    \"general\": {}\n",
    "}\n",
    "factsheet[\"general\"][\"target_column\"] = \"target\"\n",
    "print(factsheet)\n"
   ]
  },
  {
   "cell_type": "code",
   "execution_count": 21,
   "id": "22175f72-53ed-48bc-b1ee-01724263594b",
   "metadata": {},
   "outputs": [
    {
     "ename": "TypeError",
     "evalue": "unhashable type: 'list'",
     "output_type": "error",
     "traceback": [
      "\u001b[0;31m---------------------------------------------------------------------------\u001b[0m",
      "\u001b[0;31mTypeError\u001b[0m                                 Traceback (most recent call last)",
      "\u001b[0;32m/var/folders/tp/3p4kxwzd4_schmp9mmvj1h4r0000gn/T/ipykernel_33373/3069475456.py\u001b[0m in \u001b[0;36m<module>\u001b[0;34m\u001b[0m\n\u001b[1;32m      1\u001b[0m \u001b[0mkey\u001b[0m \u001b[0;34m=\u001b[0m \u001b[0;34m[\u001b[0m\u001b[0;34m\"general\"\u001b[0m\u001b[0;34m,\u001b[0m \u001b[0;34m\"target_column\"\u001b[0m\u001b[0;34m]\u001b[0m\u001b[0;34m\u001b[0m\u001b[0;34m\u001b[0m\u001b[0m\n\u001b[0;32m----> 2\u001b[0;31m \u001b[0mfactsheet\u001b[0m\u001b[0;34m.\u001b[0m\u001b[0mget\u001b[0m\u001b[0;34m(\u001b[0m\u001b[0mkey\u001b[0m\u001b[0;34m)\u001b[0m\u001b[0;34m\u001b[0m\u001b[0;34m\u001b[0m\u001b[0m\n\u001b[0m",
      "\u001b[0;31mTypeError\u001b[0m: unhashable type: 'list'"
     ]
    }
   ],
   "source": [
    "keys = [\"general\", \"target_column\"]\n",
    "\n",
    "for key in key \n",
    "factsheet.get(key)"
   ]
  },
  {
   "cell_type": "code",
   "execution_count": 24,
   "id": "06732a7a-bae1-43eb-95ae-e494b3f39ab7",
   "metadata": {},
   "outputs": [
    {
     "data": {
      "text/plain": [
       "False"
      ]
     },
     "execution_count": 24,
     "metadata": {},
     "output_type": "execute_result"
    }
   ],
   "source": [
    "question_fairness = 0\n",
    "question_fairness in list(range(1,5))"
   ]
  },
  {
   "cell_type": "markdown",
   "id": "713ef4b3-e9fd-4c5f-b6e5-f2ea90b1b8f8",
   "metadata": {},
   "source": [
    "### 3. Random Forest Classifier"
   ]
  },
  {
   "cell_type": "code",
   "execution_count": 25,
   "id": "6f1b25d1-6ef9-4fc1-a816-22c29199fa08",
   "metadata": {},
   "outputs": [],
   "source": [
    "from sklearn.ensemble import RandomForestClassifier"
   ]
  },
  {
   "cell_type": "code",
   "execution_count": 26,
   "id": "1b5ed97a-0556-4997-89a3-39ff79adb2ac",
   "metadata": {},
   "outputs": [
    {
     "data": {
      "text/plain": [
       "RandomForestClassifier(max_depth=2, random_state=0)"
      ]
     },
     "execution_count": 26,
     "metadata": {},
     "output_type": "execute_result"
    }
   ],
   "source": [
    "random_forest_classifier_01 = RandomForestClassifier(max_depth=2, random_state=0)\n",
    "random_forest_classifier_01.fit(X_train, y_train.values.ravel())"
   ]
  },
  {
   "cell_type": "code",
   "execution_count": 27,
   "id": "8e296bbd-a3e0-438e-a2f8-bd775e402cdb",
   "metadata": {},
   "outputs": [
    {
     "name": "stdout",
     "output_type": "stream",
     "text": [
      "0.9405833333333333\n"
     ]
    }
   ],
   "source": [
    "acc = random_forest_classifier_01.score(X_test, y_test.values.ravel())\n",
    "print(acc)"
   ]
  },
  {
   "cell_type": "code",
   "execution_count": 28,
   "id": "bfabb133-6c35-44e2-b2c6-577a308d9e3b",
   "metadata": {},
   "outputs": [
    {
     "name": "stdout",
     "output_type": "stream",
     "text": [
      "base directory /Users/jankreischer/Desktop/Masterproject/Shared/scenarios/credit_card_approval/../../webapp/scenarios/credit_card_approval/solutions/jans_random_forest_classifier_01\n"
     ]
    }
   ],
   "source": [
    "save_solution(\"credit_card_approval\", \"jans_random_forest_classifier_01\", random_forest_classifier_01, train_data, test_data, factsheet, to_webapp=True)"
   ]
  },
  {
   "cell_type": "code",
   "execution_count": 29,
   "id": "27d8458b-0a77-48d7-a30c-e763b10c8ba1",
   "metadata": {},
   "outputs": [
    {
     "data": {
      "text/plain": [
       "RandomForestClassifier(max_depth=5, random_state=0)"
      ]
     },
     "execution_count": 29,
     "metadata": {},
     "output_type": "execute_result"
    }
   ],
   "source": [
    "random_forest_classifier_02 = RandomForestClassifier(max_depth=5, random_state=0)\n",
    "random_forest_classifier_02.fit(X_train, y_train.values.ravel())"
   ]
  },
  {
   "cell_type": "code",
   "execution_count": 30,
   "id": "d1c652ce-543a-4ce2-9990-335441231d4f",
   "metadata": {},
   "outputs": [
    {
     "name": "stdout",
     "output_type": "stream",
     "text": [
      "0.9700833333333333\n"
     ]
    }
   ],
   "source": [
    "acc = random_forest_classifier_02.score(X_test, y_test.values.ravel())\n",
    "print(acc)"
   ]
  },
  {
   "cell_type": "code",
   "execution_count": 31,
   "id": "20284d57-d711-4639-8c47-936445ae102d",
   "metadata": {},
   "outputs": [
    {
     "name": "stdout",
     "output_type": "stream",
     "text": [
      "base directory /Users/jankreischer/Desktop/Masterproject/Shared/scenarios/credit_card_approval/../../webapp/scenarios/credit_card_approval/solutions/jans_random_forest_classifier_02\n"
     ]
    }
   ],
   "source": [
    "save_solution(\"credit_card_approval\", \"jans_random_forest_classifier_02\", random_forest_classifier_02, train_data, test_data, factsheet, to_webapp=True)"
   ]
  },
  {
   "cell_type": "code",
   "execution_count": null,
   "id": "8a1cfc4a-dff6-40a7-9249-040557de48a7",
   "metadata": {},
   "outputs": [],
   "source": []
  }
 ],
 "metadata": {
  "kernelspec": {
   "display_name": "Python 3 (ipykernel)",
   "language": "python",
   "name": "python3"
  },
  "language_info": {
   "codemirror_mode": {
    "name": "ipython",
    "version": 3
   },
   "file_extension": ".py",
   "mimetype": "text/x-python",
   "name": "python",
   "nbconvert_exporter": "python",
   "pygments_lexer": "ipython3",
   "version": "3.9.5"
  }
 },
 "nbformat": 4,
 "nbformat_minor": 5
}
