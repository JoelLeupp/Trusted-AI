{
 "cells": [
  {
   "cell_type": "code",
   "execution_count": 1,
   "id": "c321c185",
   "metadata": {},
   "outputs": [],
   "source": [
    "import numpy as np\n",
    "import pickle\n",
    "import statistics\n",
    "\n",
    "from xgboost import XGBClassifier\n",
    "from sympy.core.numbers import igcd\n",
    "from datetime import datetime\n",
    "\n",
    "from sklearn import preprocessing\n",
    "from sklearn import svm\n",
    "from sklearn import preprocessing\n",
    "from sklearn.ensemble import RandomForestClassifier\n",
    "from sklearn.tree import DecisionTreeClassifier\n",
    "\n",
    "from sklearn.model_selection import train_test_split\n",
    "from sklearn.model_selection import cross_val_predict\n",
    "from sklearn.model_selection import GridSearchCV\n",
    "from sklearn.model_selection import RandomizedSearchCV\n",
    "\n",
    "from sklearn.preprocessing import MinMaxScaler,QuantileTransformer\n",
    "from sklearn.neighbors import KNeighborsClassifier\n",
    "from sklearn.naive_bayes import GaussianNB\n",
    "\n",
    "from sklearn.metrics import confusion_matrix,classification_report\n",
    "from sklearn.metrics import accuracy_score\n",
    "from sklearn.metrics import precision_recall_fscore_support as score\n",
    "\n",
    "import seaborn as sn\n",
    "import pandas as pd\n",
    "import matplotlib.pyplot as plt\n",
    "import os\n",
    "import time\n",
    "import random"
   ]
  },
  {
   "cell_type": "code",
   "execution_count": 2,
   "id": "34193247",
   "metadata": {},
   "outputs": [],
   "source": [
    "# Data load\n",
    "df_0=pd.read_csv(\"./Datasets/Rp3_3rd_capture/rp3_normal_0.csv\")\n",
    "df_1=pd.read_csv(\"./Datasets/Rp3_3rd_capture/rp3_normal_1.csv\")\n",
    "df_2=pd.read_csv(\"./Datasets/Rp3_3rd_capture/rp3_normal_2.csv\")\n",
    "df_3=pd.read_csv(\"./Datasets/Rp3_3rd_capture/rp3_normal_3.csv\")\n",
    "df_4=pd.read_csv(\"./Datasets/Rp3_3rd_capture/rp3_normal_4.csv\")\n",
    "df_5=pd.read_csv(\"./Datasets/Rp3_3rd_capture/rp3_normal_5.csv\")\n",
    "df_6=pd.read_csv(\"./Datasets/Rp3_3rd_capture/rp3_normal_6.csv\")\n",
    "df_mix=pd.read_csv(\"./Datasets/Rp3_3rd_capture/rp3_normal_all.csv\")\n",
    "\n",
    "# Attacks\n",
    "df_fakepsd=pd.read_csv(\"./Datasets/Rp3_3rd_capture/rp3_fakePSD.csv\")\n",
    "df_sendout=pd.read_csv(\"./Datasets/Rp3_3rd_capture/rp3_sendOut.csv\")\n",
    "df_write=pd.read_csv(\"./Datasets/Rp3_3rd_capture/rp3_write.csv\")\n",
    "df_random=pd.read_csv(\"./Datasets/Rp3_3rd_capture/rp3_random.csv\")\n",
    "df_exchange=pd.read_csv(\"./Datasets/Rp3_3rd_capture/rp3_exchange.csv\")\n",
    "df_hide=pd.read_csv(\"./Datasets/Rp3_3rd_capture/rp3_hide.csv\")\n"
   ]
  },
  {
   "cell_type": "code",
   "execution_count": 3,
   "id": "3fe4cccb",
   "metadata": {},
   "outputs": [],
   "source": [
    "# Label vectors according to the timestamps\n",
    "\n",
    "df_0.loc[(df_0['timestamp'] >= 1615419435000) & (df_0['timestamp'] <= 1615423051000), 'label'] = 1\n",
    "df_1.loc[(df_1['timestamp'] >= 1615925651000) & (df_1['timestamp'] <= 1615929271000), 'label'] = 2\n",
    "df_2.loc[(df_2['timestamp'] >= 1615930017000) & (df_2['timestamp'] <= 1615933591000), 'label'] = 3\n",
    "df_3.loc[(df_3['timestamp'] >= 1615969307000) & (df_3['timestamp'] <= 1615972800000), 'label'] = 4\n",
    "df_4.loc[(df_4['timestamp'] >= 1615974874000) & (df_4['timestamp'] <= 1615978500000), 'label'] = 5\n",
    "df_5.loc[(df_5['timestamp'] >= 1615978899000) & (df_5['timestamp'] <= 1615982700000), 'label'] = 6\n",
    "df_6.loc[(df_6['timestamp'] >= 1615989015000) & (df_6['timestamp'] <= 1615992622000), 'label'] = 7\n",
    "df_mix.loc[(df_mix['timestamp'] >= 1615996500000) & (df_mix['timestamp'] <= 1616000131000), 'label'] = 8\n",
    "\n",
    "\n",
    "# Label each df\n",
    "df_fakepsd.loc[(df_fakepsd['timestamp'] >= 1615452439000) & (df_fakepsd['timestamp'] <= 1615456051000), 'label'] = 9\n",
    "df_write.loc[(df_write['timestamp'] >= 1615834554000) & (df_write['timestamp'] <= 1615838131000), 'label'] = 10\n",
    "df_sendout.loc[(df_sendout['timestamp'] >= 1615795500000) & (df_sendout['timestamp'] <= 1615799131000), 'label'] = 11\n",
    "df_random.loc[(df_random['timestamp'] >= 1615913848000) & (df_random['timestamp'] <= 1615917451000), 'label'] = 12\n",
    "df_exchange.loc[(df_exchange['timestamp'] >= 1616585145000) & (df_exchange['timestamp'] <= 1616589463000), 'label'] = 13\n",
    "df_hide.loc[(df_hide['timestamp'] >= 1616672277000) & (df_hide['timestamp'] <= 1616676574000), 'label'] = 14\n"
   ]
  },
  {
   "cell_type": "code",
   "execution_count": 4,
   "id": "96062f16",
   "metadata": {},
   "outputs": [],
   "source": [
    "# Filter those vectors that are not labelled\n",
    "\n",
    "df_0.dropna(subset=['label'], inplace=True)\n",
    "df_1.dropna(subset=['label'], inplace=True)\n",
    "df_2.dropna(subset=['label'], inplace=True)\n",
    "df_3.dropna(subset=['label'], inplace=True)\n",
    "df_4.dropna(subset=['label'], inplace=True)\n",
    "df_5.dropna(subset=['label'], inplace=True)\n",
    "df_6.dropna(subset=['label'], inplace=True)\n",
    "df_mix.dropna(subset=['label'], inplace=True)\n",
    "df_fakepsd.dropna(subset=['label'], inplace=True)\n",
    "df_write.dropna(subset=['label'], inplace=True)\n",
    "df_sendout.dropna(subset=['label'], inplace=True)\n",
    "df_random.dropna(subset=['label'], inplace=True)\n",
    "df_exchange.dropna(subset=['label'], inplace=True)\n",
    "df_hide.dropna(subset=['label'], inplace=True)"
   ]
  },
  {
   "cell_type": "code",
   "execution_count": 5,
   "id": "630ed3af",
   "metadata": {},
   "outputs": [],
   "source": [
    "# Concatenate dataframes \n",
    "\n",
    "#df_comb = pd.concat([df_exchange, df_hide])\n",
    "df_comb = pd.concat([df_0, df_1, df_2, df_3, df_4, df_5, df_6, df_mix, df_fakepsd, df_write, df_sendout, df_random, df_exchange, df_hide])\n"
   ]
  },
  {
   "cell_type": "code",
   "execution_count": 6,
   "id": "60b56320",
   "metadata": {},
   "outputs": [],
   "source": [
    "# Remove features related to time\n",
    "df_comb = df_comb.drop([\"time\",\"timestamp\"], axis=1)\n",
    "# Remove features with constant values\n",
    "df_comb=df_comb.loc[:, (df_comb != df_comb.iloc[0]).any()]"
   ]
  },
  {
   "cell_type": "code",
   "execution_count": 7,
   "id": "c4ae7c45",
   "metadata": {},
   "outputs": [
    {
     "name": "stdout",
     "output_type": "stream",
     "text": [
      "label                                      1.000000\n",
      "random:mix_pool_bytes_nolock               0.616969\n",
      "sched:sched_wakeup                         0.613135\n",
      "raw_syscalls:sys_enter                     0.612581\n",
      "raw_syscalls:sys_exit                      0.612578\n",
      "cs                                         0.608865\n",
      "sched:sched_switch                         0.608847\n",
      "preemptirq:irq_enable                      0.593387\n",
      "kmem:kmalloc                               0.583363\n",
      "irq:irq_handler_entry                      0.567148\n",
      "timer:hrtimer_start                        0.548258\n",
      "kmem:kfree                                 0.543971\n",
      "irq:softirq_entry                          0.471298\n",
      "tcp:tcp_probe                              0.382387\n",
      "timer:timer_start                          0.354153\n",
      "tcp:tcp_destroy_sock                       0.223367\n",
      "sock:inet_sock_set_state                   0.218963\n",
      "writeback:writeback_dirty_inode_enqueue    0.218720\n",
      "random:urandom_read                        0.199912\n",
      "signal:signal_deliver                      0.162903\n",
      "block:block_bio_backmerge                  0.154340\n",
      "block:block_touch_buffer                   0.150015\n",
      "random:get_random_bytes                    0.149189\n",
      "block:block_bio_remap                      0.148927\n",
      "sched:sched_process_exec                   0.148361\n",
      "signal:signal_generate                     0.143426\n",
      "jbd2:jbd2_handle_start                     0.140199\n",
      "sched:sched_process_wait                   0.135152\n",
      "task:task_newtask                          0.134732\n",
      "block:block_dirty_buffer                   0.133324\n",
      "sched:sched_process_free                   0.129754\n",
      "gpio:gpio_value                            0.126644\n",
      "rpm:rpm_suspend                            0.111445\n",
      "block:block_getrq                          0.109615\n",
      "page-faults                                0.088872\n",
      "jbd2:jbd2_start_commit                     0.086738\n",
      "block:block_unplug                         0.074485\n",
      "writeback:wbc_writepage                    0.063388\n",
      "skb:kfree_skb.1                            0.061972\n",
      "skb:kfree_skb                              0.061927\n",
      "kmem:kmem_cache_alloc                      0.041491\n",
      "kmem:kmem_cache_free                       0.039663\n",
      "pagemap:mm_lru_insertion                   0.037499\n",
      "writeback:sb_clear_inode_writeback         0.029953\n",
      "mmc:mmc_request_start                      0.027919\n",
      "writeback:writeback_single_inode           0.012778\n",
      "writeback:writeback_dirty_page             0.002479\n",
      "filemap:mm_filemap_add_to_page_cache       0.002240\n",
      "writeback:writeback_write_inode           -0.000673\n",
      "kmem:mm_page_pcpu_drain                   -0.005047\n",
      "writeback:global_dirty_state              -0.011379\n",
      "seconds                                   -0.018310\n",
      "writeback:writeback_written               -0.021606\n",
      "writeback:writeback_pages_written         -0.029419\n",
      "writeback:writeback_mark_inode_dirty      -0.033497\n",
      "connectivity                              -0.038506\n",
      "writeback:writeback_dirty_inode           -0.055951\n",
      "workqueue:workqueue_activate_work         -0.067359\n",
      "ipi:ipi_raise                             -0.207463\n",
      "clk:clk_set_rate                          -0.253976\n",
      "rpm:rpm_resume                            -0.276929\n",
      "qdisc:qdisc_dequeue.1                     -0.397674\n",
      "qdisc:qdisc_dequeue                       -0.397678\n",
      "skb:skb_copy_datagram_iovec               -0.428486\n",
      "kmem:mm_page_free                         -0.435982\n",
      "cpu-migrations                            -0.438123\n",
      "kmem:mm_page_alloc                        -0.465399\n",
      "skb:consume_skb.1                         -0.561155\n",
      "skb:consume_skb                           -0.561166\n",
      "kmem:mm_page_alloc_zone_locked            -0.563656\n",
      "net:netif_rx                              -0.611336\n",
      "net:net_dev_xmit                          -0.628573\n",
      "net:net_dev_queue                         -0.645508\n",
      "fib:fib_table_lookup                      -0.658614\n",
      "Name: label, dtype: float64\n"
     ]
    }
   ],
   "source": [
    "# Calculate correlation between features and label\n",
    "correlation_matrix = df_comb.corr()\n",
    "with pd.option_context('display.max_rows', None, 'display.max_columns', None):\n",
    "    print(correlation_matrix['label'].sort_values(ascending=False))"
   ]
  },
  {
   "cell_type": "code",
   "execution_count": 8,
   "id": "31629efe",
   "metadata": {},
   "outputs": [],
   "source": [
    "#Save the list of final features\n",
    "\n",
    "df_comb.describe()\n",
    "feat_list=df_comb.columns"
   ]
  },
  {
   "cell_type": "code",
   "execution_count": 9,
   "id": "d1281f4e",
   "metadata": {},
   "outputs": [],
   "source": [
    "# Split dataset in X (features) and Y (labels)\n",
    "df_X = df_comb.iloc[:,:-1]\n",
    "df_Y = df_comb.iloc[:,-1: ]"
   ]
  },
  {
   "cell_type": "code",
   "execution_count": 10,
   "id": "ef615f3b",
   "metadata": {},
   "outputs": [],
   "source": [
    "# Split the datast in training and testing set\n",
    "X_train, X_test, y_train, y_test = train_test_split(df_X,df_Y, test_size=0.20, random_state=42)"
   ]
  },
  {
   "cell_type": "code",
   "execution_count": 11,
   "id": "7a69c5e1",
   "metadata": {},
   "outputs": [
    {
     "name": "stderr",
     "output_type": "stream",
     "text": [
      "<ipython-input-11-192b2ed4bb67>:17: DeprecationWarning: `np.int` is a deprecated alias for the builtin `int`. To silence this warning, use `int` by itself. Doing this will not modify any behavior and is safe. When replacing `np.int`, you may wish to use e.g. `np.int64` or `np.int32` to specify the precision. If you wish to review your current use, check the release note link for additional information.\n",
      "Deprecated in NumPy 1.20; for more details and guidance: https://numpy.org/devdocs/release/1.20.0-notes.html#deprecations\n",
      "  svc.fit(scaledXTrain, y_train.values.ravel().astype(np.int))\n"
     ]
    },
    {
     "name": "stdout",
     "output_type": "stream",
     "text": [
      "0.8547297297297297\n"
     ]
    }
   ],
   "source": [
    "\n",
    "from sklearn.svm import SVC\n",
    "from sklearn.preprocessing import StandardScaler\n",
    "\n",
    "scaler = StandardScaler()\n",
    "scaler.fit(X_train)\n",
    "scaledXTrain = scaler.transform(X_train)\n",
    "\n",
    "scaledXTest = scaler.transform(X_test)\n",
    "\n",
    "scaledXTrain = pd.DataFrame(scaledXTrain)\n",
    "scaledXTest = pd.DataFrame(scaledXTest)\n",
    "svc = SVC(tol=1e-14, C=50, probability=True)\n",
    "\n",
    "#y_train_pred = cross_val_predict(svc, scaledXTrain, y_train , cv=5)\n",
    "y_train = y_train-1\n",
    "y_test = y_test-1\n",
    "svc.fit(scaledXTrain, y_train.values.ravel().astype(np.int))\n",
    "\n",
    "pickle.dump(svc, open(\"svc.sav\", 'wb'))\n",
    "# Test with the testing set\n",
    "y_pred_svc = svc.predict(scaledXTest)\n",
    "\n",
    "# Print Accuracy and confusion matrix\n",
    "print(accuracy_score(y_test,y_pred_svc))\n"
   ]
  },
  {
   "cell_type": "code",
   "execution_count": null,
   "id": "69ac045b",
   "metadata": {},
   "outputs": [],
   "source": []
  }
 ],
 "metadata": {
  "kernelspec": {
   "display_name": "Python 3",
   "language": "python",
   "name": "python3"
  },
  "language_info": {
   "codemirror_mode": {
    "name": "ipython",
    "version": 3
   },
   "file_extension": ".py",
   "mimetype": "text/x-python",
   "name": "python",
   "nbconvert_exporter": "python",
   "pygments_lexer": "ipython3",
   "version": "3.9.5"
  }
 },
 "nbformat": 4,
 "nbformat_minor": 5
}
