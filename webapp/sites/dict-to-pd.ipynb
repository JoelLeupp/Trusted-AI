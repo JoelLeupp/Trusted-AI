{
 "cells": [
  {
   "cell_type": "code",
   "execution_count": 29,
   "id": "9dbbcc96-16b1-4f3f-bedb-a40d8acae0b5",
   "metadata": {},
   "outputs": [],
   "source": [
    "import pandas as pd\n",
    "factsheet = {\"link\": \"test link\", \"description\": \"test description\"}\n",
    "df = pd.DataFrame.from_dict(factsheet, orient=\"index\", columns=[\"value\"]).reset_index()"
   ]
  },
  {
   "cell_type": "code",
   "execution_count": 30,
   "id": "6a463f3e-b582-4968-9796-f12e96f4c93c",
   "metadata": {},
   "outputs": [
    {
     "name": "stdout",
     "output_type": "stream",
     "text": [
      "         index             value\n",
      "0         link         test link\n",
      "1  description  test description\n"
     ]
    }
   ],
   "source": [
    "print(df)"
   ]
  },
  {
   "cell_type": "code",
   "execution_count": 19,
   "id": "fa1a41a0-fc7b-4209-bb2c-dc1b56bc8da6",
   "metadata": {},
   "outputs": [
    {
     "name": "stdout",
     "output_type": "stream",
     "text": [
      "(2, 1)\n"
     ]
    }
   ],
   "source": [
    "print(df.shape)"
   ]
  },
  {
   "cell_type": "code",
   "execution_count": 21,
   "id": "bb9346de-733b-420e-857d-6d15598193f1",
   "metadata": {},
   "outputs": [
    {
     "name": "stdout",
     "output_type": "stream",
     "text": [
      "link test link\n",
      "description test description\n"
     ]
    }
   ],
   "source": [
    "for key, value in factsheet.items():\n",
    "    print(key, value)"
   ]
  },
  {
   "cell_type": "code",
   "execution_count": null,
   "id": "d73e9e1d-210d-40ba-b211-48261f14eb22",
   "metadata": {},
   "outputs": [],
   "source": []
  }
 ],
 "metadata": {
  "kernelspec": {
   "display_name": "Python 3 (ipykernel)",
   "language": "python",
   "name": "python3"
  },
  "language_info": {
   "codemirror_mode": {
    "name": "ipython",
    "version": 3
   },
   "file_extension": ".py",
   "mimetype": "text/x-python",
   "name": "python",
   "nbconvert_exporter": "python",
   "pygments_lexer": "ipython3",
   "version": "3.9.7"
  }
 },
 "nbformat": 4,
 "nbformat_minor": 5
}
