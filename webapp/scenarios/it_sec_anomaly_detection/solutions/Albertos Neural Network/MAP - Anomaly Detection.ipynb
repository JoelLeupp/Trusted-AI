{
 "cells": [
  {
   "cell_type": "code",
   "execution_count": 24,
   "metadata": {},
   "outputs": [],
   "source": [
    "import numpy as np\n",
    "import pickle\n",
    "import statistics\n",
    "\n",
    "from xgboost import XGBClassifier\n",
    "from sympy.core.numbers import igcd\n",
    "from datetime import datetime\n",
    "\n",
    "from sklearn import preprocessing\n",
    "from sklearn import svm\n",
    "from sklearn import preprocessing\n",
    "from sklearn.ensemble import IsolationForest\n",
    "\n",
    "\n",
    "from sklearn.model_selection import train_test_split\n",
    "from sklearn.model_selection import cross_val_predict\n",
    "from sklearn.model_selection import GridSearchCV\n",
    "from sklearn.model_selection import RandomizedSearchCV\n",
    "\n",
    "from sklearn.preprocessing import MinMaxScaler,QuantileTransformer,RobustScaler,StandardScaler\n",
    "from sklearn.neighbors import KNeighborsClassifier\n",
    "from sklearn.naive_bayes import GaussianNB\n",
    "\n",
    "from sklearn.metrics import confusion_matrix,classification_report\n",
    "from sklearn.metrics import accuracy_score\n",
    "from sklearn.metrics import precision_recall_fscore_support as score\n",
    "\n",
    "import seaborn as sn\n",
    "import pandas as pd\n",
    "import matplotlib.pyplot as plt\n",
    "import os\n",
    "import time\n",
    "import random\n",
    "from scipy import stats\n",
    "\n",
    "from pyod.models.hbos import HBOS\n",
    "from pyod.models.cblof import CBLOF\n",
    "from pyod.models.loci import LOCI\n",
    "from pyod.models.xgbod import XGBOD\n",
    "from pyod.models.cof import COF\n",
    "from pyod.models.loda import LODA\n",
    "from pyod.models.copod import COPOD\n",
    "from pyod.models.sod import SOD\n",
    "from pyod.models.vae import VAE\n",
    "from pyod.models.lof import LocalOutlierFactor,LOF\n",
    "from pyod.models.lscp import LSCP\n",
    "from pyod.models.so_gaal import SO_GAAL\n",
    "from pyod.models.mo_gaal import MO_GAAL\n",
    "from pyod.models.iforest import IForest\n",
    "from pyod.models.ocsvm import OCSVM\n",
    "from pyod.models.auto_encoder import AutoEncoder\n",
    "\n",
    "from keras.models import Sequential\n",
    "from keras import layers\n",
    "from keras.models import Model, load_model\n",
    "from keras.layers import Input, Dense, Dropout,LSTM, Conv1D, MaxPooling1D, AveragePooling1D, Flatten,Reshape,UpSampling1D\n",
    "from keras.layers import RepeatVector\n",
    "from keras.layers import TimeDistributed\n",
    "from keras.callbacks import ModelCheckpoint, TensorBoard\n",
    "from keras import regularizers\n",
    "from keras.optimizers import Adam\n",
    "from keras.optimizers import SGD\n",
    "from keras.callbacks import EarlyStopping\n",
    "from keras.callbacks import ModelCheckpoint\n",
    "from sklearn.manifold import TSNE\n",
    "os.environ[\"CUDA_VISIBLE_DEVICES\"] = \"2\"\n"
   ]
  },
  {
   "cell_type": "code",
   "execution_count": 25,
   "metadata": {},
   "outputs": [],
   "source": [
    "#Generates the autoencoder \n",
    "def gen_autoencoder(X_train,encoding_dim):\n",
    "    \n",
    "    input_dim = X_train.shape[1] # the # features\n",
    "\n",
    "    input_layer = Input(shape=(input_dim, ))\n",
    "    hidden = Dense(encoding_dim[0], activation=\"relu\")(input_layer)\n",
    "    for n_neurons in encoding_dim[1:]:\n",
    "        hidden = Dense(n_neurons, activation=\"relu\")(hidden)#, activity_regularizer=regularizers.l1(10e-5))(input_layer)    \n",
    "        #hidden = Dropout(0.5)(hidden)\n",
    "    \n",
    "    hidden = Dense(input_dim)(hidden)\n",
    "    \n",
    "    autoencoder = Model(inputs=input_layer, outputs=hidden)\n",
    "    opt = Adam(lr=0.001, beta_1=0.9, beta_2=0.999, amsgrad=False)\n",
    "    autoencoder.compile(loss='mean_squared_error', optimizer = opt,metrics=['acc'])\n",
    "    return autoencoder\n",
    "\n",
    "#Get anomaly threshold from \"autoencoder\" setting the threshold in Q1,Q3+-1.5IQR\n",
    "def get_threshold_mse_iqr(autoencoder,train_data):\n",
    "    train_predicted = autoencoder.predict(train_data)\n",
    "    mse = np.mean(np.power(train_data - train_predicted, 2), axis=1)\n",
    "    iqr = np.quantile(mse,0.75) - np.quantile(mse, 0.25)\n",
    "    up_bound = np.quantile(mse,0.75) + 1.5*iqr\n",
    "    bottom_bound = np.quantile(mse,0.25) - 1.5*iqr\n",
    "    thres = [up_bound,bottom_bound]\n",
    "    return thres\n",
    "\n",
    "#Get anomaly threshold from \"autoencoder\" setting the threshold in \"train_data\" using \"outlier_percentage\"\n",
    "def get_threshold_mse_percentage(autoencoder,train_data,outlier_percentage):\n",
    "    train_predicted = autoencoder.predict(train_data)\n",
    "    mse = np.mean(np.power(train_data - train_predicted, 2), axis=1)\n",
    "    thresh = np.quantile(mse, 1-outlier_percentage)\n",
    "    return thresh\n",
    "\n",
    "#Predict outliers in \"df\" using \"autoencoder\" model and \"threshold_mse\" as anomaly limit\n",
    "def detect_outliers(autoencoder, df, threshold_mse):\n",
    "    if(len(threshold_mse)==2):\n",
    "        return detect_outliers_range(autoencoder, df, threshold_mse)\n",
    "    pred=autoencoder.predict(df)\n",
    "    mse = np.mean(np.power(df - pred, 2), axis=1)\n",
    "    model.save('anomaly_Det.h5')\n",
    "    #plt.hist(mse, bins=100)\n",
    "    #plt.show()\n",
    "    outliers = [np.array(mse) < threshold_mse]\n",
    "    return outliers\n",
    "\n",
    "def detect_outliers_range(autoencoder, df, threshold_mse):\n",
    "    pred=autoencoder.predict(df)\n",
    "    mse = np.mean(np.power(df - pred, 2), axis=1)\n",
    "    up_bound = threshold_mse[0]\n",
    "    bottom_bound = threshold_mse[1]\n",
    "    outliers = [(np.array(mse) < up_bound)&(np.array(mse) > bottom_bound)]\n",
    "    return outliers\n",
    "    "
   ]
  },
  {
   "cell_type": "code",
   "execution_count": 26,
   "metadata": {},
   "outputs": [],
   "source": [
    "def plot_hist(data):\n",
    "    fig,ax = plt.subplots()\n",
    "    fig.set_size_inches(10.5, 7.5, forward=True)\n",
    "    plt.hist(data, bins = 1000)\n",
    "    plt.show()"
   ]
  },
  {
   "cell_type": "code",
   "execution_count": 27,
   "metadata": {},
   "outputs": [],
   "source": [
    "# Data load\n",
    "df_0=pd.read_csv(\"./Datasets/Rp3_3rd_capture/rp3_normal_0.csv\")\n",
    "df_1=pd.read_csv(\"./Datasets/Rp3_3rd_capture/rp3_normal_1.csv\")\n",
    "df_2=pd.read_csv(\"./Datasets/Rp3_3rd_capture/rp3_normal_2.csv\")\n",
    "df_3=pd.read_csv(\"./Datasets/Rp3_3rd_capture/rp3_normal_3.csv\")\n",
    "df_4=pd.read_csv(\"./Datasets/Rp3_3rd_capture/rp3_normal_4.csv\")\n",
    "df_5=pd.read_csv(\"./Datasets/Rp3_3rd_capture/rp3_normal_5.csv\")\n",
    "df_6=pd.read_csv(\"./Datasets/Rp3_3rd_capture/rp3_normal_6.csv\")\n",
    "df_mix=pd.read_csv(\"./Datasets/Rp3_3rd_capture/rp3_normal_all.csv\")"
   ]
  },
  {
   "cell_type": "code",
   "execution_count": 28,
   "metadata": {},
   "outputs": [],
   "source": [
    "# Filter vectors according to the timestamps\n",
    "\n",
    "df_0 = df_0.loc[(df_0['timestamp'] >= 1615419435000) & (df_0['timestamp'] <= 1615451520000)]\n",
    "df_1 = df_1.loc[(df_1['timestamp'] >= 1615925651000) & (df_1['timestamp'] <= 1615929569000)]\n",
    "df_2 = df_2.loc[(df_2['timestamp'] >= 1615930017000) & (df_2['timestamp'] <= 1615933673000)]\n",
    "df_3 = df_3.loc[(df_3['timestamp'] >= 1615969307000) & (df_3['timestamp'] <= 1615972800000)]\n",
    "df_4 = df_4.loc[(df_4['timestamp'] >= 1615974874000) & (df_4['timestamp'] <= 1615978500000)]\n",
    "df_5 = df_5.loc[(df_5['timestamp'] >= 1615978899000) & (df_5['timestamp'] <= 1615982700000)]\n",
    "df_6 = df_6.loc[(df_6['timestamp'] >= 1615989015000) & (df_6['timestamp'] <= 1615992622000)]\n",
    "df_mix = df_mix.loc[(df_mix['timestamp'] >= 1615996500000) & (df_mix['timestamp'] <= 1616005200000)]"
   ]
  },
  {
   "cell_type": "code",
   "execution_count": 29,
   "metadata": {},
   "outputs": [],
   "source": [
    "#df_0.describe()"
   ]
  },
  {
   "cell_type": "code",
   "execution_count": 30,
   "metadata": {},
   "outputs": [],
   "source": [
    "df = pd.concat([df_0, df_1, df_2, df_3, df_4, df_5, df_6, df_mix])\n",
    "#df = pd.concat([df_0, df_1, df_2, df_3, df_4, df_5, df_6])\n",
    "#df= pd.concat([df_0, df_1, df_2, df_3, df_4])"
   ]
  },
  {
   "cell_type": "code",
   "execution_count": 31,
   "metadata": {},
   "outputs": [
    {
     "name": "stdout",
     "output_type": "stream",
     "text": [
      "<class 'pandas.core.frame.DataFrame'>\n",
      "Int64Index: 5353 entries, 7 to 759\n",
      "Data columns (total 82 columns):\n",
      " #   Column                                   Non-Null Count  Dtype  \n",
      "---  ------                                   --------------  -----  \n",
      " 0   time                                     5353 non-null   float64\n",
      " 1   timestamp                                5353 non-null   int64  \n",
      " 2   seconds                                  5353 non-null   float64\n",
      " 3   connectivity                             5353 non-null   int64  \n",
      " 4   alarmtimer:alarmtimer_fired              5353 non-null   int64  \n",
      " 5   alarmtimer:alarmtimer_start              5353 non-null   int64  \n",
      " 6   block:block_bio_backmerge                5353 non-null   int64  \n",
      " 7   block:block_bio_remap                    5353 non-null   int64  \n",
      " 8   block:block_dirty_buffer                 5353 non-null   int64  \n",
      " 9   block:block_getrq                        5353 non-null   int64  \n",
      " 10  block:block_touch_buffer                 5353 non-null   int64  \n",
      " 11  block:block_unplug                       5353 non-null   int64  \n",
      " 12  cachefiles:cachefiles_create             5353 non-null   int64  \n",
      " 13  cachefiles:cachefiles_lookup             5353 non-null   int64  \n",
      " 14  cachefiles:cachefiles_mark_active        5353 non-null   int64  \n",
      " 15  clk:clk_set_rate                         5353 non-null   int64  \n",
      " 16  cpu-migrations                           5353 non-null   int64  \n",
      " 17  cs                                       5353 non-null   int64  \n",
      " 18  dma_fence:dma_fence_init                 5353 non-null   int64  \n",
      " 19  fib:fib_table_lookup                     5353 non-null   int64  \n",
      " 20  filemap:mm_filemap_add_to_page_cache     5353 non-null   int64  \n",
      " 21  gpio:gpio_value                          5353 non-null   int64  \n",
      " 22  ipi:ipi_raise                            5353 non-null   int64  \n",
      " 23  irq:irq_handler_entry                    5353 non-null   int64  \n",
      " 24  irq:softirq_entry                        5353 non-null   int64  \n",
      " 25  jbd2:jbd2_handle_start                   5353 non-null   int64  \n",
      " 26  jbd2:jbd2_start_commit                   5353 non-null   int64  \n",
      " 27  kmem:kfree                               5353 non-null   int64  \n",
      " 28  kmem:kmalloc                             5353 non-null   int64  \n",
      " 29  kmem:kmem_cache_alloc                    5353 non-null   int64  \n",
      " 30  kmem:kmem_cache_free                     5353 non-null   int64  \n",
      " 31  kmem:mm_page_alloc                       5353 non-null   int64  \n",
      " 32  kmem:mm_page_alloc_zone_locked           5353 non-null   int64  \n",
      " 33  kmem:mm_page_free                        5353 non-null   int64  \n",
      " 34  kmem:mm_page_pcpu_drain                  5353 non-null   int64  \n",
      " 35  mmc:mmc_request_start                    5353 non-null   int64  \n",
      " 36  net:net_dev_queue                        5353 non-null   int64  \n",
      " 37  net:net_dev_xmit                         5353 non-null   int64  \n",
      " 38  net:netif_rx                             5353 non-null   int64  \n",
      " 39  page-faults                              5353 non-null   int64  \n",
      " 40  pagemap:mm_lru_insertion                 5353 non-null   int64  \n",
      " 41  preemptirq:irq_enable                    5353 non-null   int64  \n",
      " 42  qdisc:qdisc_dequeue                      5353 non-null   int64  \n",
      " 43  qdisc:qdisc_dequeue.1                    5353 non-null   int64  \n",
      " 44  random:get_random_bytes                  5353 non-null   int64  \n",
      " 45  random:mix_pool_bytes_nolock             5353 non-null   int64  \n",
      " 46  random:urandom_read                      5353 non-null   int64  \n",
      " 47  raw_syscalls:sys_enter                   5353 non-null   int64  \n",
      " 48  raw_syscalls:sys_exit                    5353 non-null   int64  \n",
      " 49  rpm:rpm_resume                           5353 non-null   int64  \n",
      " 50  rpm:rpm_suspend                          5353 non-null   int64  \n",
      " 51  sched:sched_process_exec                 5353 non-null   int64  \n",
      " 52  sched:sched_process_free                 5353 non-null   int64  \n",
      " 53  sched:sched_process_wait                 5353 non-null   int64  \n",
      " 54  sched:sched_switch                       5353 non-null   int64  \n",
      " 55  sched:sched_wakeup                       5353 non-null   int64  \n",
      " 56  signal:signal_deliver                    5353 non-null   int64  \n",
      " 57  signal:signal_generate                   5353 non-null   int64  \n",
      " 58  skb:consume_skb                          5353 non-null   int64  \n",
      " 59  skb:consume_skb.1                        5353 non-null   int64  \n",
      " 60  skb:kfree_skb                            5353 non-null   int64  \n",
      " 61  skb:kfree_skb.1                          5353 non-null   int64  \n",
      " 62  skb:skb_copy_datagram_iovec              5353 non-null   int64  \n",
      " 63  sock:inet_sock_set_state                 5353 non-null   int64  \n",
      " 64  task:task_newtask                        5353 non-null   int64  \n",
      " 65  tcp:tcp_destroy_sock                     5353 non-null   int64  \n",
      " 66  tcp:tcp_probe                            5353 non-null   int64  \n",
      " 67  timer:hrtimer_start                      5353 non-null   int64  \n",
      " 68  timer:timer_start                        5353 non-null   int64  \n",
      " 69  udp:udp_fail_queue_rcv_skb               5353 non-null   int64  \n",
      " 70  workqueue:workqueue_activate_work        5353 non-null   int64  \n",
      " 71  writeback:global_dirty_state             5353 non-null   int64  \n",
      " 72  writeback:sb_clear_inode_writeback       5353 non-null   int64  \n",
      " 73  writeback:wbc_writepage                  5353 non-null   int64  \n",
      " 74  writeback:writeback_dirty_inode          5353 non-null   int64  \n",
      " 75  writeback:writeback_dirty_inode_enqueue  5353 non-null   int64  \n",
      " 76  writeback:writeback_dirty_page           5353 non-null   int64  \n",
      " 77  writeback:writeback_mark_inode_dirty     5353 non-null   int64  \n",
      " 78  writeback:writeback_pages_written        5353 non-null   int64  \n",
      " 79  writeback:writeback_single_inode         5353 non-null   int64  \n",
      " 80  writeback:writeback_write_inode          5353 non-null   int64  \n",
      " 81  writeback:writeback_written              5353 non-null   int64  \n",
      "dtypes: float64(2), int64(80)\n",
      "memory usage: 3.4 MB\n"
     ]
    }
   ],
   "source": [
    "df.info()"
   ]
  },
  {
   "cell_type": "code",
   "execution_count": 32,
   "metadata": {},
   "outputs": [],
   "source": [
    "df = df.loc[(df['connectivity']==1)]"
   ]
  },
  {
   "cell_type": "code",
   "execution_count": 33,
   "metadata": {},
   "outputs": [],
   "source": [
    "# Remove columns with constant values\n",
    "df=df.loc[:, (df != df.iloc[0]).any()]"
   ]
  },
  {
   "cell_type": "code",
   "execution_count": 34,
   "metadata": {},
   "outputs": [
    {
     "data": {
      "text/html": [
       "<div>\n",
       "<style scoped>\n",
       "    .dataframe tbody tr th:only-of-type {\n",
       "        vertical-align: middle;\n",
       "    }\n",
       "\n",
       "    .dataframe tbody tr th {\n",
       "        vertical-align: top;\n",
       "    }\n",
       "\n",
       "    .dataframe thead th {\n",
       "        text-align: right;\n",
       "    }\n",
       "</style>\n",
       "<table border=\"1\" class=\"dataframe\">\n",
       "  <thead>\n",
       "    <tr style=\"text-align: right;\">\n",
       "      <th></th>\n",
       "      <th>time</th>\n",
       "      <th>timestamp</th>\n",
       "      <th>seconds</th>\n",
       "      <th>block:block_bio_backmerge</th>\n",
       "      <th>block:block_bio_remap</th>\n",
       "      <th>block:block_dirty_buffer</th>\n",
       "      <th>block:block_getrq</th>\n",
       "      <th>block:block_touch_buffer</th>\n",
       "      <th>block:block_unplug</th>\n",
       "      <th>clk:clk_set_rate</th>\n",
       "      <th>...</th>\n",
       "      <th>writeback:sb_clear_inode_writeback</th>\n",
       "      <th>writeback:wbc_writepage</th>\n",
       "      <th>writeback:writeback_dirty_inode</th>\n",
       "      <th>writeback:writeback_dirty_inode_enqueue</th>\n",
       "      <th>writeback:writeback_dirty_page</th>\n",
       "      <th>writeback:writeback_mark_inode_dirty</th>\n",
       "      <th>writeback:writeback_pages_written</th>\n",
       "      <th>writeback:writeback_single_inode</th>\n",
       "      <th>writeback:writeback_write_inode</th>\n",
       "      <th>writeback:writeback_written</th>\n",
       "    </tr>\n",
       "  </thead>\n",
       "  <tbody>\n",
       "    <tr>\n",
       "      <th>count</th>\n",
       "      <td>5339.000000</td>\n",
       "      <td>5.339000e+03</td>\n",
       "      <td>5339.000000</td>\n",
       "      <td>5339.000000</td>\n",
       "      <td>5339.000000</td>\n",
       "      <td>5339.000000</td>\n",
       "      <td>5339.000000</td>\n",
       "      <td>5339.000000</td>\n",
       "      <td>5339.000000</td>\n",
       "      <td>5339.000000</td>\n",
       "      <td>...</td>\n",
       "      <td>5339.000000</td>\n",
       "      <td>5339.000000</td>\n",
       "      <td>5339.000000</td>\n",
       "      <td>5339.000000</td>\n",
       "      <td>5339.000000</td>\n",
       "      <td>5339.000000</td>\n",
       "      <td>5339.000000</td>\n",
       "      <td>5339.000000</td>\n",
       "      <td>5339.000000</td>\n",
       "      <td>5339.000000</td>\n",
       "    </tr>\n",
       "    <tr>\n",
       "      <th>mean</th>\n",
       "      <td>3928.291767</td>\n",
       "      <td>1.615705e+12</td>\n",
       "      <td>5.011843</td>\n",
       "      <td>1.719798</td>\n",
       "      <td>2.635138</td>\n",
       "      <td>4.167634</td>\n",
       "      <td>0.907473</td>\n",
       "      <td>4.089530</td>\n",
       "      <td>0.504402</td>\n",
       "      <td>1.585690</td>\n",
       "      <td>...</td>\n",
       "      <td>1.074171</td>\n",
       "      <td>1.165574</td>\n",
       "      <td>54.862896</td>\n",
       "      <td>0.199850</td>\n",
       "      <td>3.126054</td>\n",
       "      <td>57.984079</td>\n",
       "      <td>0.995692</td>\n",
       "      <td>0.450272</td>\n",
       "      <td>0.233564</td>\n",
       "      <td>1.406443</td>\n",
       "    </tr>\n",
       "    <tr>\n",
       "      <th>std</th>\n",
       "      <td>3942.898974</td>\n",
       "      <td>2.698815e+08</td>\n",
       "      <td>0.009430</td>\n",
       "      <td>2.635422</td>\n",
       "      <td>3.840664</td>\n",
       "      <td>148.127538</td>\n",
       "      <td>1.395699</td>\n",
       "      <td>156.106611</td>\n",
       "      <td>0.772641</td>\n",
       "      <td>3.435362</td>\n",
       "      <td>...</td>\n",
       "      <td>1.885175</td>\n",
       "      <td>2.269565</td>\n",
       "      <td>181.420970</td>\n",
       "      <td>0.454724</td>\n",
       "      <td>143.379991</td>\n",
       "      <td>313.307298</td>\n",
       "      <td>0.089649</td>\n",
       "      <td>0.754349</td>\n",
       "      <td>0.649198</td>\n",
       "      <td>0.668851</td>\n",
       "    </tr>\n",
       "    <tr>\n",
       "      <th>min</th>\n",
       "      <td>15.033600</td>\n",
       "      <td>1.615419e+12</td>\n",
       "      <td>5.008997</td>\n",
       "      <td>0.000000</td>\n",
       "      <td>0.000000</td>\n",
       "      <td>0.000000</td>\n",
       "      <td>0.000000</td>\n",
       "      <td>0.000000</td>\n",
       "      <td>0.000000</td>\n",
       "      <td>0.000000</td>\n",
       "      <td>...</td>\n",
       "      <td>0.000000</td>\n",
       "      <td>0.000000</td>\n",
       "      <td>0.000000</td>\n",
       "      <td>0.000000</td>\n",
       "      <td>0.000000</td>\n",
       "      <td>0.000000</td>\n",
       "      <td>0.000000</td>\n",
       "      <td>0.000000</td>\n",
       "      <td>0.000000</td>\n",
       "      <td>0.000000</td>\n",
       "    </tr>\n",
       "    <tr>\n",
       "      <th>25%</th>\n",
       "      <td>877.011500</td>\n",
       "      <td>1.615435e+12</td>\n",
       "      <td>5.010348</td>\n",
       "      <td>0.000000</td>\n",
       "      <td>0.000000</td>\n",
       "      <td>0.000000</td>\n",
       "      <td>0.000000</td>\n",
       "      <td>0.000000</td>\n",
       "      <td>0.000000</td>\n",
       "      <td>0.000000</td>\n",
       "      <td>...</td>\n",
       "      <td>0.000000</td>\n",
       "      <td>0.000000</td>\n",
       "      <td>8.000000</td>\n",
       "      <td>0.000000</td>\n",
       "      <td>0.000000</td>\n",
       "      <td>9.000000</td>\n",
       "      <td>1.000000</td>\n",
       "      <td>0.000000</td>\n",
       "      <td>0.000000</td>\n",
       "      <td>1.000000</td>\n",
       "    </tr>\n",
       "    <tr>\n",
       "      <th>50%</th>\n",
       "      <td>1914.410000</td>\n",
       "      <td>1.615926e+12</td>\n",
       "      <td>5.010565</td>\n",
       "      <td>0.000000</td>\n",
       "      <td>0.000000</td>\n",
       "      <td>0.000000</td>\n",
       "      <td>0.000000</td>\n",
       "      <td>0.000000</td>\n",
       "      <td>0.000000</td>\n",
       "      <td>0.000000</td>\n",
       "      <td>...</td>\n",
       "      <td>0.000000</td>\n",
       "      <td>0.000000</td>\n",
       "      <td>20.000000</td>\n",
       "      <td>0.000000</td>\n",
       "      <td>0.000000</td>\n",
       "      <td>21.000000</td>\n",
       "      <td>1.000000</td>\n",
       "      <td>0.000000</td>\n",
       "      <td>0.000000</td>\n",
       "      <td>1.000000</td>\n",
       "    </tr>\n",
       "    <tr>\n",
       "      <th>75%</th>\n",
       "      <td>6707.675000</td>\n",
       "      <td>1.615980e+12</td>\n",
       "      <td>5.011005</td>\n",
       "      <td>5.000000</td>\n",
       "      <td>7.000000</td>\n",
       "      <td>5.000000</td>\n",
       "      <td>2.000000</td>\n",
       "      <td>0.000000</td>\n",
       "      <td>1.000000</td>\n",
       "      <td>1.000000</td>\n",
       "      <td>...</td>\n",
       "      <td>1.000000</td>\n",
       "      <td>0.000000</td>\n",
       "      <td>26.000000</td>\n",
       "      <td>0.000000</td>\n",
       "      <td>0.000000</td>\n",
       "      <td>27.000000</td>\n",
       "      <td>1.000000</td>\n",
       "      <td>1.000000</td>\n",
       "      <td>0.000000</td>\n",
       "      <td>2.000000</td>\n",
       "    </tr>\n",
       "    <tr>\n",
       "      <th>max</th>\n",
       "      <td>13398.100000</td>\n",
       "      <td>1.616005e+12</td>\n",
       "      <td>5.285210</td>\n",
       "      <td>59.000000</td>\n",
       "      <td>72.000000</td>\n",
       "      <td>10521.000000</td>\n",
       "      <td>27.000000</td>\n",
       "      <td>11020.000000</td>\n",
       "      <td>24.000000</td>\n",
       "      <td>14.000000</td>\n",
       "      <td>...</td>\n",
       "      <td>7.000000</td>\n",
       "      <td>27.000000</td>\n",
       "      <td>11248.000000</td>\n",
       "      <td>6.000000</td>\n",
       "      <td>10448.000000</td>\n",
       "      <td>21697.000000</td>\n",
       "      <td>3.000000</td>\n",
       "      <td>8.000000</td>\n",
       "      <td>7.000000</td>\n",
       "      <td>4.000000</td>\n",
       "    </tr>\n",
       "  </tbody>\n",
       "</table>\n",
       "<p>8 rows × 74 columns</p>\n",
       "</div>"
      ],
      "text/plain": [
       "               time     timestamp      seconds  block:block_bio_backmerge  \\\n",
       "count   5339.000000  5.339000e+03  5339.000000                5339.000000   \n",
       "mean    3928.291767  1.615705e+12     5.011843                   1.719798   \n",
       "std     3942.898974  2.698815e+08     0.009430                   2.635422   \n",
       "min       15.033600  1.615419e+12     5.008997                   0.000000   \n",
       "25%      877.011500  1.615435e+12     5.010348                   0.000000   \n",
       "50%     1914.410000  1.615926e+12     5.010565                   0.000000   \n",
       "75%     6707.675000  1.615980e+12     5.011005                   5.000000   \n",
       "max    13398.100000  1.616005e+12     5.285210                  59.000000   \n",
       "\n",
       "       block:block_bio_remap  block:block_dirty_buffer  block:block_getrq  \\\n",
       "count            5339.000000               5339.000000        5339.000000   \n",
       "mean                2.635138                  4.167634           0.907473   \n",
       "std                 3.840664                148.127538           1.395699   \n",
       "min                 0.000000                  0.000000           0.000000   \n",
       "25%                 0.000000                  0.000000           0.000000   \n",
       "50%                 0.000000                  0.000000           0.000000   \n",
       "75%                 7.000000                  5.000000           2.000000   \n",
       "max                72.000000              10521.000000          27.000000   \n",
       "\n",
       "       block:block_touch_buffer  block:block_unplug  clk:clk_set_rate  ...  \\\n",
       "count               5339.000000         5339.000000       5339.000000  ...   \n",
       "mean                   4.089530            0.504402          1.585690  ...   \n",
       "std                  156.106611            0.772641          3.435362  ...   \n",
       "min                    0.000000            0.000000          0.000000  ...   \n",
       "25%                    0.000000            0.000000          0.000000  ...   \n",
       "50%                    0.000000            0.000000          0.000000  ...   \n",
       "75%                    0.000000            1.000000          1.000000  ...   \n",
       "max                11020.000000           24.000000         14.000000  ...   \n",
       "\n",
       "       writeback:sb_clear_inode_writeback  writeback:wbc_writepage  \\\n",
       "count                         5339.000000              5339.000000   \n",
       "mean                             1.074171                 1.165574   \n",
       "std                              1.885175                 2.269565   \n",
       "min                              0.000000                 0.000000   \n",
       "25%                              0.000000                 0.000000   \n",
       "50%                              0.000000                 0.000000   \n",
       "75%                              1.000000                 0.000000   \n",
       "max                              7.000000                27.000000   \n",
       "\n",
       "       writeback:writeback_dirty_inode  \\\n",
       "count                      5339.000000   \n",
       "mean                         54.862896   \n",
       "std                         181.420970   \n",
       "min                           0.000000   \n",
       "25%                           8.000000   \n",
       "50%                          20.000000   \n",
       "75%                          26.000000   \n",
       "max                       11248.000000   \n",
       "\n",
       "       writeback:writeback_dirty_inode_enqueue  \\\n",
       "count                              5339.000000   \n",
       "mean                                  0.199850   \n",
       "std                                   0.454724   \n",
       "min                                   0.000000   \n",
       "25%                                   0.000000   \n",
       "50%                                   0.000000   \n",
       "75%                                   0.000000   \n",
       "max                                   6.000000   \n",
       "\n",
       "       writeback:writeback_dirty_page  writeback:writeback_mark_inode_dirty  \\\n",
       "count                     5339.000000                           5339.000000   \n",
       "mean                         3.126054                             57.984079   \n",
       "std                        143.379991                            313.307298   \n",
       "min                          0.000000                              0.000000   \n",
       "25%                          0.000000                              9.000000   \n",
       "50%                          0.000000                             21.000000   \n",
       "75%                          0.000000                             27.000000   \n",
       "max                      10448.000000                          21697.000000   \n",
       "\n",
       "       writeback:writeback_pages_written  writeback:writeback_single_inode  \\\n",
       "count                        5339.000000                       5339.000000   \n",
       "mean                            0.995692                          0.450272   \n",
       "std                             0.089649                          0.754349   \n",
       "min                             0.000000                          0.000000   \n",
       "25%                             1.000000                          0.000000   \n",
       "50%                             1.000000                          0.000000   \n",
       "75%                             1.000000                          1.000000   \n",
       "max                             3.000000                          8.000000   \n",
       "\n",
       "       writeback:writeback_write_inode  writeback:writeback_written  \n",
       "count                      5339.000000                  5339.000000  \n",
       "mean                          0.233564                     1.406443  \n",
       "std                           0.649198                     0.668851  \n",
       "min                           0.000000                     0.000000  \n",
       "25%                           0.000000                     1.000000  \n",
       "50%                           0.000000                     1.000000  \n",
       "75%                           0.000000                     2.000000  \n",
       "max                           7.000000                     4.000000  \n",
       "\n",
       "[8 rows x 74 columns]"
      ]
     },
     "execution_count": 34,
     "metadata": {},
     "output_type": "execute_result"
    }
   ],
   "source": [
    "df.describe()"
   ]
  },
  {
   "cell_type": "code",
   "execution_count": 35,
   "metadata": {},
   "outputs": [],
   "source": [
    "df.drop(['time','timestamp'],axis=1,inplace=True)"
   ]
  },
  {
   "cell_type": "code",
   "execution_count": 36,
   "metadata": {},
   "outputs": [
    {
     "data": {
      "text/plain": [
       "<AxesSubplot:>"
      ]
     },
     "execution_count": 36,
     "metadata": {},
     "output_type": "execute_result"
    },
    {
     "data": {
      "image/png": "[encoded data removed]",
      "text/plain": [
       "<Figure size 2016x1440 with 2 Axes>"
      ]
     },
     "metadata": {
      "needs_background": "light"
     },
     "output_type": "display_data"
    }
   ],
   "source": [
    "# Calculate the correlation between features\n",
    "\n",
    "corr = df.corr()\n",
    "f, ax = plt.subplots(figsize=(28, 20))\n",
    "sn.heatmap(corr,vmin=-1.0,vmax=1.0)"
   ]
  },
  {
   "cell_type": "code",
   "execution_count": 37,
   "metadata": {},
   "outputs": [
    {
     "data": {
      "text/plain": [
       "(4805, 72)"
      ]
     },
     "execution_count": 37,
     "metadata": {},
     "output_type": "execute_result"
    }
   ],
   "source": [
    "# Split dataset in training and testing\n",
    "X_train, X_test = train_test_split(df, test_size=0.10, random_state=42)\n",
    "X_train.shape"
   ]
  },
  {
   "cell_type": "code",
   "execution_count": 38,
   "metadata": {},
   "outputs": [],
   "source": [
    "#Save selected features\n",
    "feat_list=X_train.columns"
   ]
  },
  {
   "cell_type": "code",
   "execution_count": 39,
   "metadata": {},
   "outputs": [],
   "source": [
    "#Feature scaling\n",
    "\n",
    "# Min_Max_Scaler normalization\n",
    "#scaler = MinMaxScaler().fit(X_train)\n",
    "#scaler = QuantileTransformer(n_quantiles=1000,random_state=42).fit(X_train)\n",
    "#scaler = RobustScaler().fit(X_train)\n",
    "scaler= StandardScaler().fit(X_train)\n",
    "# Transform training set\n",
    "X_train = scaler.transform(X_train)\n",
    "# Transform test set\n",
    "X_test = scaler.transform(X_test)"
   ]
  },
  {
   "cell_type": "code",
   "execution_count": 40,
   "metadata": {},
   "outputs": [
    {
     "data": {
      "text/plain": [
       "\"detector_list=[AutoEncoder([32,16,32], hidden_activation='relu',epochs=20,contamination=0.1),\\n                LOF(contamination=0.1,n_neighbors=25), COPOD(contamination=0.1),\\n                IForest(random_state=42,contamination=0.1), CBLOF(n_clusters=20,contamination=0.1),\\n                HBOS(n_bins=100,contamination=0.1), LODA(n_bins=100,n_random_cuts=100,contamination=0.1)]\""
      ]
     },
     "execution_count": 40,
     "metadata": {},
     "output_type": "execute_result"
    }
   ],
   "source": [
    "# Different models\n",
    "\n",
    "#clf = IsolationForest(random_state=42, contamination=0.2)\n",
    "\n",
    "\"\"\"detector_list=[AutoEncoder([32,16,32], hidden_activation='relu',epochs=20,contamination=0.1),\n",
    "                LOF(contamination=0.1,n_neighbors=25), COPOD(contamination=0.1),\n",
    "                IForest(random_state=42,contamination=0.1), CBLOF(n_clusters=20,contamination=0.1),\n",
    "                HBOS(n_bins=100,contamination=0.1), LODA(n_bins=100,n_random_cuts=100,contamination=0.1)]\"\"\"\n",
    "#clf = LSCP(detector_list)\n",
    "#clf = AutoEncoder([16], hidden_activation='relu',epochs=20,contamination=0.2,dropout_rate=0.0,preprocessing=True)\n",
    "#clf = LOF(contamination=0.05,n_neighbors=50)\n",
    "#clf = CBLOF(n_clusters=20,contamination=0.2)\n",
    "#clf = VAE(encoder_neurons=[32,16],decoder_neurons=[16,32],latent_dim=2,epochs=50,contamination=0.05,verbose=1)\n",
    "#clf = LODA(n_bins=100,n_random_cuts=100,contamination=0.2)\n",
    "#clf = COPOD(contamination=0.2)\n",
    "#clf = HBOS(n_bins=100,contamination=0.2)\n",
    "#clf = SO_GAAL(contamination=0.2)\n",
    "#clf = MO_GAAL(contamination=0.2)\n",
    "#clf = OCSVM(kernel='rbf',gamma=0.0001, nu=0.3)\n"
   ]
  },
  {
   "cell_type": "code",
   "execution_count": 41,
   "metadata": {},
   "outputs": [],
   "source": [
    "# Model training\n",
    "\n",
    "#clf.fit(X_train)"
   ]
  },
  {
   "cell_type": "code",
   "execution_count": 42,
   "metadata": {},
   "outputs": [],
   "source": [
    "# Model evaluation with good behaviour\n",
    "#pred=clf.predict(X_test)\n",
    "#unique_elements, counts_elements = np.unique(pred, return_counts=True)\n",
    "#print(\"\\t\",unique_elements,\"    \",counts_elements)"
   ]
  },
  {
   "cell_type": "code",
   "execution_count": null,
   "metadata": {},
   "outputs": [],
   "source": []
  },
  {
   "cell_type": "code",
   "execution_count": 43,
   "metadata": {},
   "outputs": [
    {
     "name": "stderr",
     "output_type": "stream",
     "text": [
      "/Library/Frameworks/Python.framework/Versions/3.9/lib/python3.9/site-packages/tensorflow/python/keras/optimizer_v2/optimizer_v2.py:374: UserWarning: The `lr` argument is deprecated, use `learning_rate` instead.\n",
      "  warnings.warn(\n"
     ]
    },
    {
     "name": "stdout",
     "output_type": "stream",
     "text": [
      "Epoch 1/2000\n",
      "241/241 [==============================] - 15s 4ms/step - loss: 0.7035 - acc: 0.0410 - val_loss: 0.3251 - val_acc: 0.0916\n",
      "Epoch 2/2000\n",
      "241/241 [==============================] - 0s 2ms/step - loss: 0.3190 - acc: 0.1101 - val_loss: 0.2344 - val_acc: 0.1446\n",
      "Epoch 3/2000\n",
      "241/241 [==============================] - 0s 2ms/step - loss: 0.2883 - acc: 0.1731 - val_loss: 0.1910 - val_acc: 0.2529\n",
      "Epoch 4/2000\n",
      "241/241 [==============================] - 0s 2ms/step - loss: 0.2452 - acc: 0.2530 - val_loss: 0.1663 - val_acc: 0.2029\n",
      "Epoch 5/2000\n",
      "241/241 [==============================] - 1s 3ms/step - loss: 0.2041 - acc: 0.2291 - val_loss: 0.1514 - val_acc: 0.2653\n",
      "Epoch 6/2000\n",
      "241/241 [==============================] - 0s 2ms/step - loss: 0.2283 - acc: 0.2585 - val_loss: 0.1369 - val_acc: 0.2966\n",
      "Epoch 7/2000\n",
      "241/241 [==============================] - 0s 2ms/step - loss: 0.1360 - acc: 0.3164 - val_loss: 0.1390 - val_acc: 0.2966\n",
      "Epoch 8/2000\n",
      "241/241 [==============================] - 1s 2ms/step - loss: 0.1364 - acc: 0.3348 - val_loss: 0.1273 - val_acc: 0.3330\n",
      "Epoch 9/2000\n",
      "241/241 [==============================] - 0s 2ms/step - loss: 0.1365 - acc: 0.3915 - val_loss: 0.1360 - val_acc: 0.4142\n",
      "Epoch 10/2000\n",
      "241/241 [==============================] - 1s 3ms/step - loss: 0.1906 - acc: 0.3978 - val_loss: 0.1130 - val_acc: 0.4547\n",
      "Epoch 11/2000\n",
      "241/241 [==============================] - 0s 2ms/step - loss: 0.1159 - acc: 0.4655 - val_loss: 0.1126 - val_acc: 0.4568\n",
      "Epoch 12/2000\n",
      "241/241 [==============================] - 1s 2ms/step - loss: 0.1279 - acc: 0.4489 - val_loss: 0.1075 - val_acc: 0.4339\n",
      "Epoch 13/2000\n",
      "241/241 [==============================] - 1s 4ms/step - loss: 0.1001 - acc: 0.4478 - val_loss: 0.1092 - val_acc: 0.4381\n",
      "Epoch 14/2000\n",
      "241/241 [==============================] - 1s 4ms/step - loss: 0.1034 - acc: 0.4258 - val_loss: 0.0985 - val_acc: 0.4370\n",
      "Epoch 15/2000\n",
      "241/241 [==============================] - 1s 3ms/step - loss: 0.0854 - acc: 0.4263 - val_loss: 0.0963 - val_acc: 0.4194\n",
      "Epoch 16/2000\n",
      "241/241 [==============================] - 1s 3ms/step - loss: 0.0798 - acc: 0.4352 - val_loss: 0.0976 - val_acc: 0.4433\n",
      "Epoch 17/2000\n",
      "241/241 [==============================] - 0s 2ms/step - loss: 0.1333 - acc: 0.4417 - val_loss: 0.0848 - val_acc: 0.4735\n",
      "Epoch 18/2000\n",
      "241/241 [==============================] - 0s 2ms/step - loss: 0.0797 - acc: 0.4899 - val_loss: 0.0976 - val_acc: 0.4839\n",
      "Epoch 19/2000\n",
      "241/241 [==============================] - 0s 2ms/step - loss: 0.1043 - acc: 0.4544 - val_loss: 0.0861 - val_acc: 0.4006\n",
      "Epoch 20/2000\n",
      "241/241 [==============================] - 0s 2ms/step - loss: 0.1117 - acc: 0.4805 - val_loss: 0.0768 - val_acc: 0.4984\n",
      "Epoch 21/2000\n",
      "241/241 [==============================] - 0s 2ms/step - loss: 0.0800 - acc: 0.5022 - val_loss: 0.0853 - val_acc: 0.5297\n",
      "Epoch 22/2000\n",
      "241/241 [==============================] - 0s 2ms/step - loss: 0.0792 - acc: 0.5020 - val_loss: 0.0787 - val_acc: 0.4974\n",
      "Epoch 23/2000\n",
      "241/241 [==============================] - 0s 2ms/step - loss: 0.0700 - acc: 0.5372 - val_loss: 0.0841 - val_acc: 0.5369\n",
      "Epoch 24/2000\n",
      "241/241 [==============================] - 0s 1ms/step - loss: 0.0993 - acc: 0.5222 - val_loss: 0.0713 - val_acc: 0.5796\n",
      "Epoch 25/2000\n",
      "241/241 [==============================] - 0s 2ms/step - loss: 0.1476 - acc: 0.5500 - val_loss: 0.0749 - val_acc: 0.5671\n",
      "Epoch 26/2000\n",
      "241/241 [==============================] - 0s 2ms/step - loss: 0.0730 - acc: 0.5663 - val_loss: 0.0742 - val_acc: 0.5442\n",
      "Epoch 27/2000\n",
      "241/241 [==============================] - 1s 2ms/step - loss: 0.0774 - acc: 0.5714 - val_loss: 0.0697 - val_acc: 0.5557\n",
      "Epoch 28/2000\n",
      "241/241 [==============================] - 1s 5ms/step - loss: 0.0699 - acc: 0.5710 - val_loss: 0.0675 - val_acc: 0.5817\n",
      "Epoch 29/2000\n",
      "241/241 [==============================] - 1s 4ms/step - loss: 0.0658 - acc: 0.5989 - val_loss: 0.0681 - val_acc: 0.6160\n",
      "Epoch 30/2000\n",
      "241/241 [==============================] - 1s 3ms/step - loss: 0.0672 - acc: 0.5717 - val_loss: 0.0675 - val_acc: 0.6067\n",
      "Epoch 31/2000\n",
      "241/241 [==============================] - 1s 4ms/step - loss: 0.0602 - acc: 0.5735 - val_loss: 0.0678 - val_acc: 0.6035\n",
      "Epoch 32/2000\n",
      "241/241 [==============================] - 1s 4ms/step - loss: 0.0735 - acc: 0.5853 - val_loss: 0.0636 - val_acc: 0.5890\n",
      "Epoch 33/2000\n",
      "241/241 [==============================] - 1s 3ms/step - loss: 0.0702 - acc: 0.6185 - val_loss: 0.0649 - val_acc: 0.5827\n",
      "Epoch 34/2000\n",
      "241/241 [==============================] - 1s 4ms/step - loss: 0.0607 - acc: 0.6191 - val_loss: 0.0682 - val_acc: 0.5723\n",
      "Epoch 35/2000\n",
      "241/241 [==============================] - 1s 3ms/step - loss: 0.1009 - acc: 0.6012 - val_loss: 0.0596 - val_acc: 0.5713\n",
      "Epoch 36/2000\n",
      "241/241 [==============================] - 1s 4ms/step - loss: 0.0494 - acc: 0.6038 - val_loss: 0.0823 - val_acc: 0.5557\n",
      "Epoch 37/2000\n",
      "241/241 [==============================] - 1s 3ms/step - loss: 0.0622 - acc: 0.5782 - val_loss: 0.0564 - val_acc: 0.5994\n",
      "Epoch 38/2000\n",
      "241/241 [==============================] - 1s 2ms/step - loss: 0.0561 - acc: 0.5932 - val_loss: 0.0642 - val_acc: 0.5869\n",
      "Epoch 39/2000\n",
      "241/241 [==============================] - 1s 3ms/step - loss: 0.0561 - acc: 0.5897 - val_loss: 0.0567 - val_acc: 0.5879\n",
      "Epoch 40/2000\n",
      "241/241 [==============================] - 0s 2ms/step - loss: 0.0624 - acc: 0.5931 - val_loss: 0.0543 - val_acc: 0.5754\n",
      "Epoch 41/2000\n",
      "241/241 [==============================] - 0s 2ms/step - loss: 0.0664 - acc: 0.6044 - val_loss: 0.0566 - val_acc: 0.5952\n",
      "Epoch 42/2000\n",
      "241/241 [==============================] - 0s 2ms/step - loss: 0.0495 - acc: 0.6253 - val_loss: 0.0591 - val_acc: 0.5765\n",
      "Epoch 43/2000\n",
      "241/241 [==============================] - 0s 2ms/step - loss: 0.0671 - acc: 0.5886 - val_loss: 0.0714 - val_acc: 0.6119\n",
      "Epoch 44/2000\n",
      "241/241 [==============================] - 0s 2ms/step - loss: 0.0633 - acc: 0.6219 - val_loss: 0.0486 - val_acc: 0.6035\n",
      "Epoch 45/2000\n",
      "241/241 [==============================] - 0s 2ms/step - loss: 0.0558 - acc: 0.6210 - val_loss: 0.0492 - val_acc: 0.5942\n",
      "Epoch 46/2000\n",
      "241/241 [==============================] - 0s 2ms/step - loss: 0.0632 - acc: 0.6253 - val_loss: 0.0503 - val_acc: 0.6171\n",
      "Epoch 47/2000\n",
      "241/241 [==============================] - 0s 2ms/step - loss: 0.0530 - acc: 0.6048 - val_loss: 0.0467 - val_acc: 0.6046\n",
      "Epoch 48/2000\n",
      "241/241 [==============================] - 0s 2ms/step - loss: 0.0423 - acc: 0.6224 - val_loss: 0.0451 - val_acc: 0.6087\n",
      "Epoch 49/2000\n",
      "241/241 [==============================] - 0s 2ms/step - loss: 0.0444 - acc: 0.6190 - val_loss: 0.0603 - val_acc: 0.5525\n",
      "Epoch 50/2000\n",
      "241/241 [==============================] - 0s 2ms/step - loss: 0.0616 - acc: 0.6110 - val_loss: 0.0415 - val_acc: 0.6015\n",
      "Epoch 51/2000\n",
      "241/241 [==============================] - 0s 2ms/step - loss: 0.0476 - acc: 0.6090 - val_loss: 0.0610 - val_acc: 0.6254\n",
      "Epoch 52/2000\n",
      "241/241 [==============================] - 0s 2ms/step - loss: 0.0496 - acc: 0.6172 - val_loss: 0.0440 - val_acc: 0.6025\n",
      "Epoch 53/2000\n",
      "241/241 [==============================] - 0s 2ms/step - loss: 0.0481 - acc: 0.6179 - val_loss: 0.0442 - val_acc: 0.6254\n",
      "Epoch 54/2000\n",
      "241/241 [==============================] - 0s 2ms/step - loss: 0.0624 - acc: 0.6274 - val_loss: 0.0394 - val_acc: 0.6254\n",
      "Epoch 55/2000\n",
      "241/241 [==============================] - 0s 2ms/step - loss: 0.0453 - acc: 0.6268 - val_loss: 0.0425 - val_acc: 0.6722\n",
      "Epoch 56/2000\n",
      "241/241 [==============================] - 0s 2ms/step - loss: 0.0545 - acc: 0.6544 - val_loss: 0.0386 - val_acc: 0.6171\n",
      "Epoch 57/2000\n",
      "241/241 [==============================] - 1s 2ms/step - loss: 0.0387 - acc: 0.6359 - val_loss: 0.0409 - val_acc: 0.6327\n",
      "Epoch 58/2000\n",
      "241/241 [==============================] - 0s 2ms/step - loss: 0.0447 - acc: 0.6139 - val_loss: 0.0393 - val_acc: 0.6493\n",
      "Epoch 59/2000\n",
      "241/241 [==============================] - 0s 2ms/step - loss: 0.0408 - acc: 0.6245 - val_loss: 0.0383 - val_acc: 0.6431\n",
      "Epoch 60/2000\n",
      "241/241 [==============================] - 0s 2ms/step - loss: 0.0338 - acc: 0.6382 - val_loss: 0.0455 - val_acc: 0.6243\n",
      "Epoch 61/2000\n",
      "241/241 [==============================] - 1s 3ms/step - loss: 0.0530 - acc: 0.6357 - val_loss: 0.0449 - val_acc: 0.6191\n"
     ]
    },
    {
     "name": "stdout",
     "output_type": "stream",
     "text": [
      "Epoch 62/2000\n",
      "241/241 [==============================] - 1s 3ms/step - loss: 0.0921 - acc: 0.6375 - val_loss: 0.0590 - val_acc: 0.6191\n",
      "Epoch 63/2000\n",
      "241/241 [==============================] - 1s 3ms/step - loss: 0.0418 - acc: 0.6424 - val_loss: 0.0413 - val_acc: 0.6670\n",
      "Epoch 64/2000\n",
      "241/241 [==============================] - 1s 2ms/step - loss: 0.0413 - acc: 0.6316 - val_loss: 0.0621 - val_acc: 0.6212\n",
      "Epoch 65/2000\n",
      "241/241 [==============================] - 1s 3ms/step - loss: 0.0363 - acc: 0.6657 - val_loss: 0.0408 - val_acc: 0.6379\n",
      "Epoch 66/2000\n",
      "241/241 [==============================] - 1s 2ms/step - loss: 0.0644 - acc: 0.6406 - val_loss: 0.0376 - val_acc: 0.6556\n",
      "Epoch 67/2000\n",
      "241/241 [==============================] - 1s 4ms/step - loss: 0.0411 - acc: 0.6489 - val_loss: 0.0355 - val_acc: 0.6691\n",
      "Epoch 68/2000\n",
      "241/241 [==============================] - 1s 2ms/step - loss: 0.0355 - acc: 0.6622 - val_loss: 0.0351 - val_acc: 0.6639\n",
      "Epoch 69/2000\n",
      "241/241 [==============================] - 1s 3ms/step - loss: 0.0406 - acc: 0.6503 - val_loss: 0.0411 - val_acc: 0.6701\n",
      "Epoch 70/2000\n",
      "241/241 [==============================] - 0s 2ms/step - loss: 0.0460 - acc: 0.6306 - val_loss: 0.0348 - val_acc: 0.6868\n",
      "Epoch 71/2000\n",
      "241/241 [==============================] - 1s 2ms/step - loss: 0.0391 - acc: 0.6769 - val_loss: 0.0350 - val_acc: 0.6785\n",
      "Epoch 72/2000\n",
      "241/241 [==============================] - 0s 2ms/step - loss: 0.0384 - acc: 0.6592 - val_loss: 0.0334 - val_acc: 0.6878\n",
      "Epoch 73/2000\n",
      "241/241 [==============================] - 0s 2ms/step - loss: 0.0347 - acc: 0.6933 - val_loss: 0.0359 - val_acc: 0.6639\n",
      "Epoch 74/2000\n",
      "241/241 [==============================] - 0s 2ms/step - loss: 0.0332 - acc: 0.6664 - val_loss: 0.0386 - val_acc: 0.6462\n",
      "Epoch 75/2000\n",
      "241/241 [==============================] - 0s 2ms/step - loss: 0.0366 - acc: 0.6703 - val_loss: 0.0336 - val_acc: 0.6681\n",
      "Epoch 76/2000\n",
      "241/241 [==============================] - 0s 2ms/step - loss: 0.0526 - acc: 0.6757 - val_loss: 0.0353 - val_acc: 0.6712\n",
      "Epoch 77/2000\n",
      "241/241 [==============================] - 1s 2ms/step - loss: 0.0333 - acc: 0.6732 - val_loss: 0.0377 - val_acc: 0.6368\n",
      "Epoch 78/2000\n",
      "241/241 [==============================] - 0s 2ms/step - loss: 0.0392 - acc: 0.6846 - val_loss: 0.0445 - val_acc: 0.6233\n",
      "Epoch 79/2000\n",
      "241/241 [==============================] - 0s 2ms/step - loss: 0.0379 - acc: 0.6741 - val_loss: 0.0337 - val_acc: 0.7003\n",
      "Epoch 80/2000\n",
      "241/241 [==============================] - 1s 2ms/step - loss: 0.0308 - acc: 0.6863 - val_loss: 0.0352 - val_acc: 0.6941\n",
      "Epoch 81/2000\n",
      "241/241 [==============================] - 1s 2ms/step - loss: 0.0404 - acc: 0.6715 - val_loss: 0.0322 - val_acc: 0.6941\n",
      "Epoch 82/2000\n",
      "241/241 [==============================] - 0s 2ms/step - loss: 0.0288 - acc: 0.7007 - val_loss: 0.0398 - val_acc: 0.6306\n",
      "Epoch 83/2000\n",
      "241/241 [==============================] - 0s 2ms/step - loss: 0.0370 - acc: 0.6818 - val_loss: 0.0313 - val_acc: 0.7045\n",
      "Epoch 84/2000\n",
      "241/241 [==============================] - 0s 2ms/step - loss: 0.0332 - acc: 0.6863 - val_loss: 0.0343 - val_acc: 0.6847\n",
      "Epoch 85/2000\n",
      "241/241 [==============================] - 1s 2ms/step - loss: 0.0383 - acc: 0.6875 - val_loss: 0.0341 - val_acc: 0.6909\n",
      "Epoch 86/2000\n",
      "241/241 [==============================] - 0s 2ms/step - loss: 0.0351 - acc: 0.6876 - val_loss: 0.0345 - val_acc: 0.6524\n",
      "Epoch 87/2000\n",
      "241/241 [==============================] - 1s 2ms/step - loss: 0.0319 - acc: 0.6796 - val_loss: 0.0423 - val_acc: 0.6868\n",
      "Epoch 88/2000\n",
      "241/241 [==============================] - 0s 2ms/step - loss: 0.0286 - acc: 0.7039 - val_loss: 0.0733 - val_acc: 0.5994\n",
      "Epoch 89/2000\n",
      "241/241 [==============================] - 1s 3ms/step - loss: 0.0487 - acc: 0.6532 - val_loss: 0.0334 - val_acc: 0.6857\n",
      "Epoch 90/2000\n",
      "241/241 [==============================] - 1s 4ms/step - loss: 0.0472 - acc: 0.6921 - val_loss: 0.0318 - val_acc: 0.6920\n",
      "Epoch 91/2000\n",
      "241/241 [==============================] - 1s 4ms/step - loss: 0.0310 - acc: 0.7070 - val_loss: 0.0325 - val_acc: 0.6556\n",
      "Epoch 92/2000\n",
      "241/241 [==============================] - 1s 3ms/step - loss: 0.0499 - acc: 0.7021 - val_loss: 0.0307 - val_acc: 0.6868\n",
      "Epoch 93/2000\n",
      "241/241 [==============================] - 1s 3ms/step - loss: 0.0284 - acc: 0.6861 - val_loss: 0.0403 - val_acc: 0.7014\n",
      "Epoch 94/2000\n",
      "241/241 [==============================] - 0s 2ms/step - loss: 0.0324 - acc: 0.6697 - val_loss: 0.0336 - val_acc: 0.7284\n",
      "Epoch 95/2000\n",
      "241/241 [==============================] - 0s 2ms/step - loss: 0.0391 - acc: 0.6819 - val_loss: 0.0321 - val_acc: 0.6899\n",
      "Epoch 96/2000\n",
      "241/241 [==============================] - 0s 2ms/step - loss: 0.0795 - acc: 0.7035 - val_loss: 0.0311 - val_acc: 0.7138\n",
      "Epoch 97/2000\n",
      "241/241 [==============================] - 0s 2ms/step - loss: 0.0278 - acc: 0.6863 - val_loss: 0.0341 - val_acc: 0.6889\n",
      "Epoch 98/2000\n",
      "241/241 [==============================] - 0s 2ms/step - loss: 0.0353 - acc: 0.6958 - val_loss: 0.0297 - val_acc: 0.6972\n",
      "Epoch 99/2000\n",
      "241/241 [==============================] - 1s 2ms/step - loss: 0.0382 - acc: 0.6776 - val_loss: 0.0307 - val_acc: 0.7003\n",
      "Epoch 100/2000\n",
      "241/241 [==============================] - 1s 2ms/step - loss: 0.0389 - acc: 0.7024 - val_loss: 0.0300 - val_acc: 0.6941\n",
      "Epoch 101/2000\n",
      "241/241 [==============================] - 0s 2ms/step - loss: 0.0305 - acc: 0.6889 - val_loss: 0.0332 - val_acc: 0.6878\n",
      "Epoch 102/2000\n",
      "241/241 [==============================] - 0s 2ms/step - loss: 0.0365 - acc: 0.7141 - val_loss: 0.0406 - val_acc: 0.6764\n",
      "Epoch 103/2000\n",
      "241/241 [==============================] - 0s 2ms/step - loss: 0.0334 - acc: 0.6823 - val_loss: 0.0381 - val_acc: 0.7232\n",
      "Epoch 104/2000\n",
      "241/241 [==============================] - 0s 2ms/step - loss: 0.0306 - acc: 0.6850 - val_loss: 0.0310 - val_acc: 0.6462\n",
      "Epoch 105/2000\n",
      "241/241 [==============================] - 0s 2ms/step - loss: 0.0273 - acc: 0.6985 - val_loss: 0.0436 - val_acc: 0.7128\n",
      "Epoch 106/2000\n",
      "241/241 [==============================] - 0s 2ms/step - loss: 0.0290 - acc: 0.6750 - val_loss: 0.0287 - val_acc: 0.7232\n",
      "Epoch 107/2000\n",
      "241/241 [==============================] - 0s 2ms/step - loss: 0.0345 - acc: 0.7037 - val_loss: 0.0410 - val_acc: 0.6275\n",
      "Epoch 108/2000\n",
      "241/241 [==============================] - 0s 2ms/step - loss: 0.0310 - acc: 0.7146 - val_loss: 0.0347 - val_acc: 0.6733\n",
      "Epoch 109/2000\n",
      "241/241 [==============================] - 0s 2ms/step - loss: 0.0397 - acc: 0.6774 - val_loss: 0.0351 - val_acc: 0.6649\n",
      "Epoch 110/2000\n",
      "241/241 [==============================] - 0s 2ms/step - loss: 0.0323 - acc: 0.6795 - val_loss: 0.0302 - val_acc: 0.7263\n",
      "Epoch 111/2000\n",
      "241/241 [==============================] - 0s 2ms/step - loss: 0.0410 - acc: 0.6912 - val_loss: 0.0291 - val_acc: 0.7357\n",
      "Epoch 112/2000\n",
      "241/241 [==============================] - 0s 2ms/step - loss: 0.0332 - acc: 0.7060 - val_loss: 0.0349 - val_acc: 0.7263\n",
      "Epoch 113/2000\n",
      "241/241 [==============================] - 0s 2ms/step - loss: 0.0546 - acc: 0.6963 - val_loss: 0.0341 - val_acc: 0.6785\n",
      "Epoch 114/2000\n",
      "241/241 [==============================] - 0s 2ms/step - loss: 0.0369 - acc: 0.7128 - val_loss: 0.0287 - val_acc: 0.6941\n",
      "Epoch 115/2000\n",
      "241/241 [==============================] - 0s 2ms/step - loss: 0.0291 - acc: 0.7125 - val_loss: 0.0304 - val_acc: 0.7014\n",
      "Epoch 116/2000\n",
      "241/241 [==============================] - 0s 2ms/step - loss: 0.0383 - acc: 0.6897 - val_loss: 0.0288 - val_acc: 0.6691\n",
      "Epoch 117/2000\n",
      "241/241 [==============================] - 1s 4ms/step - loss: 0.0266 - acc: 0.6955 - val_loss: 0.0361 - val_acc: 0.6972\n",
      "Epoch 118/2000\n",
      "241/241 [==============================] - 0s 2ms/step - loss: 0.0341 - acc: 0.7054 - val_loss: 0.0282 - val_acc: 0.7034\n",
      "Epoch 119/2000\n",
      "241/241 [==============================] - 0s 2ms/step - loss: 0.0409 - acc: 0.7014 - val_loss: 0.0296 - val_acc: 0.6930\n",
      "Epoch 120/2000\n",
      "241/241 [==============================] - 0s 2ms/step - loss: 0.0339 - acc: 0.6997 - val_loss: 0.0299 - val_acc: 0.6545\n",
      "Epoch 121/2000\n",
      "241/241 [==============================] - 0s 2ms/step - loss: 0.0272 - acc: 0.7013 - val_loss: 0.0301 - val_acc: 0.6764\n",
      "Epoch 122/2000\n"
     ]
    },
    {
     "name": "stdout",
     "output_type": "stream",
     "text": [
      "241/241 [==============================] - 0s 2ms/step - loss: 0.0298 - acc: 0.7080 - val_loss: 0.0295 - val_acc: 0.6909\n",
      "Epoch 123/2000\n",
      "241/241 [==============================] - 0s 2ms/step - loss: 0.0329 - acc: 0.7134 - val_loss: 0.0292 - val_acc: 0.7294\n",
      "Epoch 124/2000\n",
      "241/241 [==============================] - 1s 2ms/step - loss: 0.0330 - acc: 0.7190 - val_loss: 0.0290 - val_acc: 0.6629\n",
      "Epoch 125/2000\n",
      "241/241 [==============================] - 0s 2ms/step - loss: 0.0387 - acc: 0.7157 - val_loss: 0.0435 - val_acc: 0.6743\n",
      "Epoch 126/2000\n",
      "241/241 [==============================] - 0s 2ms/step - loss: 0.0337 - acc: 0.7119 - val_loss: 0.0394 - val_acc: 0.7024\n",
      "Epoch 127/2000\n",
      "241/241 [==============================] - 0s 2ms/step - loss: 0.0376 - acc: 0.6928 - val_loss: 0.0285 - val_acc: 0.7003\n",
      "Epoch 128/2000\n",
      "241/241 [==============================] - 0s 2ms/step - loss: 0.0316 - acc: 0.7106 - val_loss: 0.0304 - val_acc: 0.7284\n",
      "Epoch 129/2000\n",
      "241/241 [==============================] - 0s 2ms/step - loss: 0.0234 - acc: 0.7134 - val_loss: 0.0319 - val_acc: 0.6972\n",
      "Epoch 130/2000\n",
      "241/241 [==============================] - 0s 2ms/step - loss: 0.0282 - acc: 0.6872 - val_loss: 0.0303 - val_acc: 0.7086\n",
      "Epoch 131/2000\n",
      "241/241 [==============================] - 0s 2ms/step - loss: 0.0305 - acc: 0.7231 - val_loss: 0.0292 - val_acc: 0.7294\n",
      "Epoch 132/2000\n",
      "241/241 [==============================] - 0s 2ms/step - loss: 0.0243 - acc: 0.7131 - val_loss: 0.0355 - val_acc: 0.6670\n",
      "Epoch 133/2000\n",
      "241/241 [==============================] - 0s 2ms/step - loss: 0.0303 - acc: 0.6896 - val_loss: 0.0295 - val_acc: 0.7128\n",
      "Epoch 134/2000\n",
      "241/241 [==============================] - 0s 2ms/step - loss: 0.0252 - acc: 0.7059 - val_loss: 0.0424 - val_acc: 0.7263\n",
      "Epoch 135/2000\n",
      "241/241 [==============================] - 0s 2ms/step - loss: 0.0327 - acc: 0.6983 - val_loss: 0.0277 - val_acc: 0.7159\n",
      "Epoch 136/2000\n",
      "241/241 [==============================] - 0s 2ms/step - loss: 0.0312 - acc: 0.7111 - val_loss: 0.0325 - val_acc: 0.7014\n",
      "Epoch 137/2000\n",
      "241/241 [==============================] - 0s 2ms/step - loss: 0.0289 - acc: 0.7193 - val_loss: 0.0458 - val_acc: 0.6712\n",
      "Epoch 138/2000\n",
      "241/241 [==============================] - 1s 2ms/step - loss: 0.0380 - acc: 0.6945 - val_loss: 0.0307 - val_acc: 0.7086\n",
      "Epoch 139/2000\n",
      "241/241 [==============================] - 0s 2ms/step - loss: 0.0366 - acc: 0.7111 - val_loss: 0.0289 - val_acc: 0.7055\n",
      "Epoch 140/2000\n",
      "241/241 [==============================] - 0s 2ms/step - loss: 0.0244 - acc: 0.7088 - val_loss: 0.0278 - val_acc: 0.7399\n",
      "Epoch 141/2000\n",
      "241/241 [==============================] - 0s 2ms/step - loss: 0.0273 - acc: 0.7237 - val_loss: 0.0312 - val_acc: 0.6878\n",
      "Epoch 142/2000\n",
      "241/241 [==============================] - 0s 2ms/step - loss: 0.0386 - acc: 0.7013 - val_loss: 0.0283 - val_acc: 0.7190\n",
      "Epoch 143/2000\n",
      "241/241 [==============================] - 0s 1ms/step - loss: 0.0392 - acc: 0.7305 - val_loss: 0.0263 - val_acc: 0.6982\n",
      "Epoch 144/2000\n",
      "241/241 [==============================] - 0s 2ms/step - loss: 0.0406 - acc: 0.7224 - val_loss: 0.0282 - val_acc: 0.7138\n",
      "Epoch 145/2000\n",
      "241/241 [==============================] - 1s 3ms/step - loss: 0.0290 - acc: 0.7183 - val_loss: 0.0271 - val_acc: 0.7211\n",
      "Epoch 146/2000\n",
      "241/241 [==============================] - 0s 2ms/step - loss: 0.0251 - acc: 0.7204 - val_loss: 0.0309 - val_acc: 0.7076\n",
      "Epoch 147/2000\n",
      "241/241 [==============================] - 0s 2ms/step - loss: 0.0341 - acc: 0.7135 - val_loss: 0.0271 - val_acc: 0.7024\n",
      "Epoch 148/2000\n",
      "241/241 [==============================] - 1s 3ms/step - loss: 0.0249 - acc: 0.7164 - val_loss: 0.0338 - val_acc: 0.7149\n",
      "Epoch 149/2000\n",
      "241/241 [==============================] - 0s 2ms/step - loss: 0.0273 - acc: 0.7137 - val_loss: 0.0278 - val_acc: 0.7211\n",
      "Epoch 150/2000\n",
      "241/241 [==============================] - 1s 3ms/step - loss: 0.0258 - acc: 0.7419 - val_loss: 0.0320 - val_acc: 0.7034\n",
      "Epoch 151/2000\n",
      "241/241 [==============================] - 1s 4ms/step - loss: 0.0267 - acc: 0.7290 - val_loss: 0.0280 - val_acc: 0.7388\n",
      "Epoch 152/2000\n",
      "241/241 [==============================] - 1s 3ms/step - loss: 0.0240 - acc: 0.7290 - val_loss: 0.0293 - val_acc: 0.6951\n",
      "Epoch 153/2000\n",
      "241/241 [==============================] - 0s 2ms/step - loss: 0.0256 - acc: 0.7314 - val_loss: 0.0275 - val_acc: 0.7066\n",
      "Epoch 154/2000\n",
      "241/241 [==============================] - 0s 2ms/step - loss: 0.0236 - acc: 0.7097 - val_loss: 0.0297 - val_acc: 0.7211\n",
      "Epoch 155/2000\n",
      "241/241 [==============================] - 0s 2ms/step - loss: 0.0282 - acc: 0.7239 - val_loss: 0.0273 - val_acc: 0.7138\n",
      "Epoch 156/2000\n",
      "241/241 [==============================] - 0s 2ms/step - loss: 0.0254 - acc: 0.7240 - val_loss: 0.0287 - val_acc: 0.7159\n",
      "Epoch 157/2000\n",
      "241/241 [==============================] - 0s 2ms/step - loss: 0.0281 - acc: 0.7186 - val_loss: 0.0264 - val_acc: 0.7159\n",
      "Epoch 158/2000\n",
      "241/241 [==============================] - 0s 2ms/step - loss: 0.0274 - acc: 0.7293 - val_loss: 0.0326 - val_acc: 0.7055\n",
      "Epoch 159/2000\n",
      "241/241 [==============================] - 0s 2ms/step - loss: 0.0348 - acc: 0.7202 - val_loss: 0.0283 - val_acc: 0.7138\n",
      "Epoch 160/2000\n",
      "241/241 [==============================] - 0s 2ms/step - loss: 0.0318 - acc: 0.7176 - val_loss: 0.0289 - val_acc: 0.6961\n",
      "Epoch 161/2000\n",
      "241/241 [==============================] - 0s 2ms/step - loss: 0.0256 - acc: 0.7106 - val_loss: 0.0268 - val_acc: 0.7242\n",
      "Epoch 162/2000\n",
      "241/241 [==============================] - 0s 2ms/step - loss: 0.0227 - acc: 0.7120 - val_loss: 0.0282 - val_acc: 0.7149\n",
      "Epoch 163/2000\n",
      "241/241 [==============================] - 1s 2ms/step - loss: 0.0258 - acc: 0.7287 - val_loss: 0.0340 - val_acc: 0.7066\n"
     ]
    }
   ],
   "source": [
    "#MANUAL AUTOENCODER BUILD AND TRAIN\n",
    "autoencoder=gen_autoencoder(X_train,[32,16,32])\n",
    "es = EarlyStopping(monitor='val_loss', mode='min',patience=20)\n",
    "mc = ModelCheckpoint('best_model.h5', monitor='val_loss', mode='min', save_best_only=True)\n",
    "history = autoencoder.fit(X_train, X_train,epochs=2000,\n",
    "                    batch_size=16,\n",
    "                    shuffle=True,\n",
    "                    validation_split=0.2,\n",
    "                    verbose=1,\n",
    "                    callbacks=[es, mc]).history\n",
    "autoencoder = load_model('best_model.h5')"
   ]
  },
  {
   "cell_type": "code",
   "execution_count": 44,
   "metadata": {},
   "outputs": [
    {
     "data": {
      "image/png": "[encoded data removed]",
      "text/plain": [
       "<Figure size 648x432 with 1 Axes>"
      ]
     },
     "metadata": {
      "needs_background": "light"
     },
     "output_type": "display_data"
    }
   ],
   "source": [
    "plt.figure(figsize=(9,6))\n",
    "plt.plot(history['loss'])\n",
    "plt.plot(history['val_loss'])\n",
    "plt.title('model loss')\n",
    "plt.ylabel('loss')\n",
    "plt.xlabel('epoch')\n",
    "plt.legend(['train', 'val'], loc='upper right')\n",
    "plt.show()"
   ]
  },
  {
   "cell_type": "code",
   "execution_count": 45,
   "metadata": {},
   "outputs": [
    {
     "name": "stdout",
     "output_type": "stream",
     "text": [
      "[0.0389116977092578, -0.009769895431266792]\n"
     ]
    }
   ],
   "source": [
    "#GET ANOMALY THRESHOLD\n",
    "#autoencoder = load_model('best_model.h5')\n",
    "#thresh = get_threshold_mse_percentage(autoencoder,X_train,0.1)\n",
    "thresh = get_threshold_mse_iqr(autoencoder,X_train)\n",
    "print(thresh)"
   ]
  },
  {
   "cell_type": "code",
   "execution_count": 46,
   "metadata": {},
   "outputs": [
    {
     "name": "stdout",
     "output_type": "stream",
     "text": [
      "\t [False  True]      [ 41 493]\n"
     ]
    }
   ],
   "source": [
    "# Predict Anomalies contained in the normal behaviour\n",
    "mad_outliers = detect_outliers(autoencoder, X_test, thresh)\n",
    "unique_elements, counts_elements = np.unique(mad_outliers, return_counts=True)\n",
    "print(\"\\t\",unique_elements,\"    \",counts_elements)"
   ]
  },
  {
   "cell_type": "code",
   "execution_count": null,
   "metadata": {},
   "outputs": [],
   "source": []
  },
  {
   "cell_type": "code",
   "execution_count": null,
   "metadata": {},
   "outputs": [],
   "source": []
  },
  {
   "cell_type": "code",
   "execution_count": null,
   "metadata": {},
   "outputs": [],
   "source": []
  },
  {
   "cell_type": "code",
   "execution_count": 47,
   "metadata": {},
   "outputs": [],
   "source": [
    "##### Attack 1: SENDING FAKE PSD VALUES ####"
   ]
  },
  {
   "cell_type": "code",
   "execution_count": 48,
   "metadata": {},
   "outputs": [],
   "source": [
    "df_fakepsd=pd.read_csv(\"./Datasets/Rp3_3rd_capture/rp3_fakePSD.csv\")"
   ]
  },
  {
   "cell_type": "code",
   "execution_count": 49,
   "metadata": {},
   "outputs": [],
   "source": [
    "df_fakepsd_1 = df_fakepsd.loc[(df_fakepsd['timestamp'] >= 1615452439000) & (df_fakepsd['timestamp'] <= 1615478400000)]\n",
    "df_fakepsd_2 = df_fakepsd.loc[(df_fakepsd['timestamp'] >= 1615479600000) & (df_fakepsd['timestamp'] <= 1615485600000)]\n",
    "\n",
    "df_fakepsd = pd.concat([df_fakepsd_1, df_fakepsd_2])\n",
    "df_fakepsd.drop(['time','timestamp'],axis=1,inplace=True)"
   ]
  },
  {
   "cell_type": "code",
   "execution_count": 50,
   "metadata": {},
   "outputs": [],
   "source": [
    "df_fakepsd = df_fakepsd.loc[(df_fakepsd['connectivity']==1)]"
   ]
  },
  {
   "cell_type": "code",
   "execution_count": 51,
   "metadata": {},
   "outputs": [],
   "source": [
    "df_fakepsd = df_fakepsd[df_fakepsd.columns.intersection(feat_list)]"
   ]
  },
  {
   "cell_type": "code",
   "execution_count": 52,
   "metadata": {},
   "outputs": [],
   "source": [
    "df_fakepsd = scaler.transform(df_fakepsd)"
   ]
  },
  {
   "cell_type": "code",
   "execution_count": 53,
   "metadata": {},
   "outputs": [],
   "source": [
    "#pred=clf.predict(df_fakepsd)\n",
    "#unique_elements, counts_elements = np.unique(pred, return_counts=True)\n",
    "#print(\"\\t\",unique_elements,\"    \",counts_elements)"
   ]
  },
  {
   "cell_type": "code",
   "execution_count": 54,
   "metadata": {},
   "outputs": [
    {
     "name": "stdout",
     "output_type": "stream",
     "text": [
      "\t [False]      [2679]\n"
     ]
    }
   ],
   "source": [
    "mad_outliers = detect_outliers(autoencoder, df_fakepsd, thresh)\n",
    "unique_elements, counts_elements = np.unique(mad_outliers, return_counts=True)\n",
    "print(\"\\t\",unique_elements,\"    \",counts_elements)"
   ]
  },
  {
   "cell_type": "code",
   "execution_count": null,
   "metadata": {},
   "outputs": [],
   "source": []
  },
  {
   "cell_type": "code",
   "execution_count": null,
   "metadata": {},
   "outputs": [],
   "source": []
  },
  {
   "cell_type": "code",
   "execution_count": 55,
   "metadata": {},
   "outputs": [],
   "source": [
    "##### Attack 2: SENDING OUT PSD VALUES #### "
   ]
  },
  {
   "cell_type": "code",
   "execution_count": 56,
   "metadata": {},
   "outputs": [],
   "source": [
    "df_sendout=pd.read_csv(\"./Datasets/Rp3_3rd_capture/rp3_sendOut.csv\")"
   ]
  },
  {
   "cell_type": "code",
   "execution_count": 57,
   "metadata": {},
   "outputs": [],
   "source": [
    "df_sendout_1 = df_sendout.loc[(df_sendout['timestamp'] >= 1615795500000) & (df_sendout['timestamp'] <= 1615805280000)]\n",
    "df_sendout_2 = df_sendout.loc[(df_sendout['timestamp'] >= 1615806000000) & (df_sendout['timestamp'] <= 1615809600000)]\n",
    "\n",
    "df_sendout = pd.concat([df_sendout_1, df_sendout_2])\n",
    "df_sendout.drop(['time','timestamp'],axis=1,inplace=True)"
   ]
  },
  {
   "cell_type": "code",
   "execution_count": 58,
   "metadata": {},
   "outputs": [],
   "source": [
    "df_sendout = df_sendout.loc[(df_sendout['connectivity']==1)]"
   ]
  },
  {
   "cell_type": "code",
   "execution_count": 59,
   "metadata": {},
   "outputs": [],
   "source": [
    "df_sendout = df_sendout[df_sendout.columns.intersection(feat_list)]"
   ]
  },
  {
   "cell_type": "code",
   "execution_count": 60,
   "metadata": {},
   "outputs": [],
   "source": [
    "df_sendout = scaler.transform(df_sendout)"
   ]
  },
  {
   "cell_type": "code",
   "execution_count": 61,
   "metadata": {},
   "outputs": [],
   "source": [
    "#pred=clf.predict(df_fakepsd)\n",
    "#unique_elements, counts_elements = np.unique(pred, return_counts=True)\n",
    "#print(\"\\t\",unique_elements,\"    \",counts_elements)"
   ]
  },
  {
   "cell_type": "code",
   "execution_count": 62,
   "metadata": {},
   "outputs": [
    {
     "name": "stdout",
     "output_type": "stream",
     "text": [
      "\t [False]      [1122]\n"
     ]
    }
   ],
   "source": [
    "mad_outliers = detect_outliers(autoencoder, df_sendout, thresh)\n",
    "unique_elements, counts_elements = np.unique(mad_outliers, return_counts=True)\n",
    "print(\"\\t\",unique_elements,\"    \",counts_elements)"
   ]
  },
  {
   "cell_type": "code",
   "execution_count": null,
   "metadata": {},
   "outputs": [],
   "source": []
  },
  {
   "cell_type": "code",
   "execution_count": null,
   "metadata": {},
   "outputs": [],
   "source": []
  },
  {
   "cell_type": "code",
   "execution_count": null,
   "metadata": {},
   "outputs": [],
   "source": []
  },
  {
   "cell_type": "code",
   "execution_count": null,
   "metadata": {},
   "outputs": [],
   "source": []
  },
  {
   "cell_type": "code",
   "execution_count": 63,
   "metadata": {},
   "outputs": [],
   "source": [
    "##### Attack 3: WRITE #### PRIVACY LEAKAGE"
   ]
  },
  {
   "cell_type": "code",
   "execution_count": 64,
   "metadata": {},
   "outputs": [],
   "source": [
    "df_write=pd.read_csv(\"./Datasets/Rp3_3rd_capture/rp3_write.csv\")"
   ]
  },
  {
   "cell_type": "code",
   "execution_count": 65,
   "metadata": {},
   "outputs": [],
   "source": [
    "df_write = df_write.loc[(df_write['timestamp'] >= 1615834554000) & (df_write['timestamp'] <= 1615843200000)]\n",
    "\n",
    "df_write.drop(['time','timestamp'],axis=1,inplace=True)"
   ]
  },
  {
   "cell_type": "code",
   "execution_count": 66,
   "metadata": {},
   "outputs": [],
   "source": [
    "df_write = df_write.loc[(df_write['connectivity']==1)]"
   ]
  },
  {
   "cell_type": "code",
   "execution_count": 67,
   "metadata": {},
   "outputs": [],
   "source": [
    "df_write = df_write[df_write.columns.intersection(feat_list)]"
   ]
  },
  {
   "cell_type": "code",
   "execution_count": 68,
   "metadata": {},
   "outputs": [],
   "source": [
    "df_write = scaler.transform(df_write)"
   ]
  },
  {
   "cell_type": "code",
   "execution_count": 69,
   "metadata": {},
   "outputs": [],
   "source": [
    "#pred=clf.predict(df_fakepsd)\n",
    "#unique_elements, counts_elements = np.unique(pred, return_counts=True)\n",
    "#print(\"\\t\",unique_elements,\"    \",counts_elements)"
   ]
  },
  {
   "cell_type": "code",
   "execution_count": 70,
   "metadata": {},
   "outputs": [
    {
     "name": "stdout",
     "output_type": "stream",
     "text": [
      "\t [False]      [708]\n"
     ]
    }
   ],
   "source": [
    "mad_outliers = detect_outliers(autoencoder, df_write, thresh)\n",
    "unique_elements, counts_elements = np.unique(mad_outliers, return_counts=True)\n",
    "print(\"\\t\",unique_elements,\"    \",counts_elements)"
   ]
  },
  {
   "cell_type": "code",
   "execution_count": null,
   "metadata": {},
   "outputs": [],
   "source": []
  },
  {
   "cell_type": "code",
   "execution_count": null,
   "metadata": {},
   "outputs": [],
   "source": []
  },
  {
   "cell_type": "code",
   "execution_count": null,
   "metadata": {},
   "outputs": [],
   "source": []
  },
  {
   "cell_type": "code",
   "execution_count": null,
   "metadata": {},
   "outputs": [],
   "source": []
  },
  {
   "cell_type": "code",
   "execution_count": 71,
   "metadata": {},
   "outputs": [],
   "source": [
    "##### Attack 4: ADDING RANDOM NOISE TO PSD VALUES ####"
   ]
  },
  {
   "cell_type": "code",
   "execution_count": 72,
   "metadata": {},
   "outputs": [],
   "source": [
    "# Data load\n",
    "df_random=pd.read_csv(\"./Datasets/Rp3_3rd_capture/rp3_random.csv\")"
   ]
  },
  {
   "cell_type": "code",
   "execution_count": 73,
   "metadata": {
    "scrolled": true
   },
   "outputs": [],
   "source": [
    "# Remove columns with constant values\n",
    "df_random = df_random.loc[(df_random['connectivity']==1)]"
   ]
  },
  {
   "cell_type": "code",
   "execution_count": 74,
   "metadata": {},
   "outputs": [
    {
     "name": "stderr",
     "output_type": "stream",
     "text": [
      "/Library/Frameworks/Python.framework/Versions/3.9/lib/python3.9/site-packages/pandas/core/frame.py:4308: SettingWithCopyWarning: \n",
      "A value is trying to be set on a copy of a slice from a DataFrame\n",
      "\n",
      "See the caveats in the documentation: https://pandas.pydata.org/pandas-docs/stable/user_guide/indexing.html#returning-a-view-versus-a-copy\n",
      "  return super().drop(\n"
     ]
    }
   ],
   "source": [
    "# Filter vectors according to the timestamps\n",
    "df_random_new = df_random.loc[(df_random['timestamp'] >= 1615913848000) & (df_random['timestamp'] <= 1615922405000)]\n",
    "\n",
    "df_random_new.drop(['time','timestamp'],axis=1,inplace=True)"
   ]
  },
  {
   "cell_type": "code",
   "execution_count": 75,
   "metadata": {},
   "outputs": [],
   "source": [
    "X_outliers6=df_random_new[df_random_new.columns.intersection(feat_list)]"
   ]
  },
  {
   "cell_type": "code",
   "execution_count": 76,
   "metadata": {},
   "outputs": [],
   "source": [
    "# Transform outliers set\n",
    "X_outliers6 = scaler.transform(X_outliers6)"
   ]
  },
  {
   "cell_type": "code",
   "execution_count": 77,
   "metadata": {},
   "outputs": [
    {
     "name": "stdout",
     "output_type": "stream",
     "text": [
      "\t [False]      [717]\n"
     ]
    }
   ],
   "source": [
    "#Outliers with manual autoencoder\n",
    "mad_outliers = detect_outliers(autoencoder, X_outliers6, thresh)\n",
    "unique_elements, counts_elements = np.unique(mad_outliers, return_counts=True)\n",
    "print(\"\\t\",unique_elements,\"    \",counts_elements)"
   ]
  },
  {
   "cell_type": "code",
   "execution_count": null,
   "metadata": {},
   "outputs": [],
   "source": []
  },
  {
   "cell_type": "code",
   "execution_count": null,
   "metadata": {},
   "outputs": [],
   "source": []
  },
  {
   "cell_type": "code",
   "execution_count": null,
   "metadata": {},
   "outputs": [],
   "source": []
  },
  {
   "cell_type": "code",
   "execution_count": null,
   "metadata": {},
   "outputs": [],
   "source": []
  },
  {
   "cell_type": "code",
   "execution_count": 78,
   "metadata": {},
   "outputs": [],
   "source": [
    "##### Attack 5: EXCHANGE PSD VALUES OF TWO FREQUENCY BANDS ####\n",
    "# Freq bands 90Mhz - [300Mhz - 1Ghz]"
   ]
  },
  {
   "cell_type": "code",
   "execution_count": 79,
   "metadata": {},
   "outputs": [],
   "source": [
    "# Data load\n",
    "df_exchange2=pd.read_csv(\"./Datasets/Rp3_3rd_capture/rp3_exchange.csv\")"
   ]
  },
  {
   "cell_type": "code",
   "execution_count": 80,
   "metadata": {
    "scrolled": true
   },
   "outputs": [],
   "source": [
    "# Remove columns with constant values\n",
    "df_exchange2 = df_exchange2.loc[(df_exchange2['connectivity']==1)]"
   ]
  },
  {
   "cell_type": "code",
   "execution_count": 81,
   "metadata": {},
   "outputs": [],
   "source": [
    "# Filter vectors according to the timestamps\n",
    "df_exchange2 = df_exchange2.loc[(df_exchange2['timestamp'] >= 1616585145000) & (df_exchange2['timestamp'] <= 1616589463000)]\n",
    "\n",
    "df_exchange2.drop(['time','timestamp'],axis=1,inplace=True)"
   ]
  },
  {
   "cell_type": "code",
   "execution_count": 82,
   "metadata": {},
   "outputs": [],
   "source": [
    "X_outliers9=df_exchange2[df_exchange2.columns.intersection(feat_list)]"
   ]
  },
  {
   "cell_type": "code",
   "execution_count": 83,
   "metadata": {},
   "outputs": [],
   "source": [
    "# Transform outliers set\n",
    "X_outliers9 = scaler.transform(X_outliers9)"
   ]
  },
  {
   "cell_type": "code",
   "execution_count": 84,
   "metadata": {},
   "outputs": [
    {
     "name": "stdout",
     "output_type": "stream",
     "text": [
      "\t [False  True]      [241 106]\n"
     ]
    }
   ],
   "source": [
    "#Outliers with manual autoencoder\n",
    "mad_outliers = detect_outliers(autoencoder, X_outliers9, thresh)\n",
    "unique_elements, counts_elements = np.unique(mad_outliers, return_counts=True)\n",
    "print(\"\\t\",unique_elements,\"    \",counts_elements)"
   ]
  },
  {
   "cell_type": "code",
   "execution_count": null,
   "metadata": {},
   "outputs": [],
   "source": []
  },
  {
   "cell_type": "code",
   "execution_count": null,
   "metadata": {},
   "outputs": [],
   "source": []
  },
  {
   "cell_type": "code",
   "execution_count": null,
   "metadata": {},
   "outputs": [],
   "source": []
  },
  {
   "cell_type": "code",
   "execution_count": null,
   "metadata": {},
   "outputs": [],
   "source": []
  },
  {
   "cell_type": "code",
   "execution_count": null,
   "metadata": {},
   "outputs": [],
   "source": []
  },
  {
   "cell_type": "code",
   "execution_count": 85,
   "metadata": {},
   "outputs": [],
   "source": [
    "##### Attack 6: Hide a transmission ####\n",
    "# 200Mhz - 250Mz"
   ]
  },
  {
   "cell_type": "code",
   "execution_count": 86,
   "metadata": {},
   "outputs": [],
   "source": [
    "# Data load\n",
    "df_hide=pd.read_csv(\"./Datasets/Rp3_3rd_capture/rp3_hide.csv\")"
   ]
  },
  {
   "cell_type": "code",
   "execution_count": 87,
   "metadata": {
    "scrolled": true
   },
   "outputs": [],
   "source": [
    "# Remove columns with constant values\n",
    "df_hide = df_hide.loc[(df_hide['connectivity']==1)]"
   ]
  },
  {
   "cell_type": "code",
   "execution_count": 88,
   "metadata": {},
   "outputs": [],
   "source": [
    "# Filter vectors according to the timestamps\n",
    "df_hide = df_hide.loc[(df_hide['timestamp'] >= 1616672277000) & (df_hide['timestamp'] <= 1616676574000)]\n",
    "\n",
    "df_hide.drop(['time','timestamp'],axis=1,inplace=True)"
   ]
  },
  {
   "cell_type": "code",
   "execution_count": 89,
   "metadata": {},
   "outputs": [],
   "source": [
    "X_outliers10 = df_hide[df_hide.columns.intersection(feat_list)]"
   ]
  },
  {
   "cell_type": "code",
   "execution_count": 90,
   "metadata": {},
   "outputs": [],
   "source": [
    "# Transform outliers set\n",
    "X_outliers10 = scaler.transform(X_outliers10)"
   ]
  },
  {
   "cell_type": "code",
   "execution_count": 91,
   "metadata": {},
   "outputs": [
    {
     "name": "stdout",
     "output_type": "stream",
     "text": [
      "\t [False  True]      [ 39 316]\n"
     ]
    }
   ],
   "source": [
    "#Outliers with manual autoencoder\n",
    "mad_outliers = detect_outliers(autoencoder, X_outliers10, thresh)\n",
    "unique_elements, counts_elements = np.unique(mad_outliers, return_counts=True)\n",
    "print(\"\\t\",unique_elements,\"    \",counts_elements)"
   ]
  },
  {
   "cell_type": "code",
   "execution_count": null,
   "metadata": {},
   "outputs": [],
   "source": []
  }
 ],
 "metadata": {
  "kernelspec": {
   "display_name": "Python 3",
   "language": "python",
   "name": "python3"
  },
  "language_info": {
   "codemirror_mode": {
    "name": "ipython",
    "version": 3
   },
   "file_extension": ".py",
   "mimetype": "text/x-python",
   "name": "python",
   "nbconvert_exporter": "python",
   "pygments_lexer": "ipython3",
   "version": "3.9.5"
  }
 },
 "nbformat": 4,
 "nbformat_minor": 4
}
