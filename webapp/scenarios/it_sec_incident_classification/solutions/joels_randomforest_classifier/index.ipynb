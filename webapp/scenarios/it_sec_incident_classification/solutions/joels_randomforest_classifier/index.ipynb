{
 "cells": [
  {
   "cell_type": "code",
   "execution_count": 2,
   "id": "d98a2d5e-4d0c-43be-878a-488c37d44b56",
   "metadata": {},
   "outputs": [],
   "source": [
    "import pandas as pd\n",
    "data = pd.read_csv('train.csv')"
   ]
  },
  {
   "cell_type": "code",
   "execution_count": 4,
   "id": "31265f4d-4d2d-4df6-b0c9-b2975e26c716",
   "metadata": {},
   "outputs": [
    {
     "data": {
      "text/plain": [
       "array([1, 0])"
      ]
     },
     "execution_count": 4,
     "metadata": {},
     "output_type": "execute_result"
    }
   ],
   "source": [
    "data.connectivity.unique()"
   ]
  },
  {
   "cell_type": "code",
   "execution_count": 5,
   "id": "07a7a251-a219-4a36-a2fc-5dc001a15f77",
   "metadata": {},
   "outputs": [
    {
     "data": {
      "text/plain": [
       "Index(['seconds', 'connectivity', 'block:block_bio_backmerge',\n",
       "       'block:block_dirty_buffer', 'block:block_getrq', 'block:block_unplug',\n",
       "       'clk:clk_set_rate', 'cpu-migrations', 'cs', 'fib:fib_table_lookup',\n",
       "       'filemap:mm_filemap_add_to_page_cache', 'ipi:ipi_raise',\n",
       "       'irq:softirq_entry', 'jbd2:jbd2_start_commit', 'kmem:kfree',\n",
       "       'kmem:kmem_cache_alloc', 'kmem:mm_page_alloc',\n",
       "       'kmem:mm_page_alloc_zone_locked', 'kmem:mm_page_free',\n",
       "       'kmem:mm_page_pcpu_drain', 'mmc:mmc_request_start', 'page-faults',\n",
       "       'pagemap:mm_lru_insertion', 'qdisc:qdisc_dequeue',\n",
       "       'random:get_random_bytes', 'random:urandom_read', 'rpm:rpm_resume',\n",
       "       'rpm:rpm_suspend', 'skb:consume_skb', 'skb:kfree_skb',\n",
       "       'skb:skb_copy_datagram_iovec', 'sock:inet_sock_set_state',\n",
       "       'tcp:tcp_probe', 'timer:timer_start',\n",
       "       'workqueue:workqueue_activate_work', 'writeback:global_dirty_state',\n",
       "       'writeback:sb_clear_inode_writeback', 'writeback:wbc_writepage',\n",
       "       'writeback:writeback_dirty_inode',\n",
       "       'writeback:writeback_dirty_inode_enqueue',\n",
       "       'writeback:writeback_pages_written', 'writeback:writeback_single_inode',\n",
       "       'writeback:writeback_write_inode', 'writeback:writeback_written',\n",
       "       'label'],\n",
       "      dtype='object')"
      ]
     },
     "execution_count": 5,
     "metadata": {},
     "output_type": "execute_result"
    }
   ],
   "source": [
    "data.columns"
   ]
  },
  {
   "cell_type": "code",
   "execution_count": 13,
   "id": "624657fb-bfe4-4d1f-8ac1-17a9b08898bc",
   "metadata": {},
   "outputs": [
    {
     "data": {
      "text/plain": [
       "array([ 6.,  1., 14.,  4., 12.,  9.,  2.,  3.,  7.,  8., 13.,  5., 11.,\n",
       "       10.])"
      ]
     },
     "execution_count": 13,
     "metadata": {},
     "output_type": "execute_result"
    }
   ],
   "source": [
    "data.label.unique()"
   ]
  },
  {
   "cell_type": "code",
   "execution_count": null,
   "id": "c111d9ea-3ad1-42f9-adc5-862ca9dc4abd",
   "metadata": {},
   "outputs": [],
   "source": []
  }
 ],
 "metadata": {
  "kernelspec": {
   "display_name": "Python 3 (ipykernel)",
   "language": "python",
   "name": "python3"
  },
  "language_info": {
   "codemirror_mode": {
    "name": "ipython",
    "version": 3
   },
   "file_extension": ".py",
   "mimetype": "text/x-python",
   "name": "python",
   "nbconvert_exporter": "python",
   "pygments_lexer": "ipython3",
   "version": "3.9.7"
  }
 },
 "nbformat": 4,
 "nbformat_minor": 5
}
