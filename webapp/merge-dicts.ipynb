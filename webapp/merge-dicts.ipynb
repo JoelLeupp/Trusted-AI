{
 "cells": [
  {
   "cell_type": "code",
   "execution_count": 1,
   "id": "58c17be1-0659-48da-9630-a35df1105f06",
   "metadata": {},
   "outputs": [],
   "source": [
    "import numpy as np"
   ]
  },
  {
   "cell_type": "code",
   "execution_count": 2,
   "id": "f16f6723-aa61-4d62-aea7-7954c8aaf366",
   "metadata": {},
   "outputs": [],
   "source": [
    "factsheet01 = {\n",
    "    \"general\": {\n",
    "        \"model_name\": \"Jan's Random Forest Classifier\",\n",
    "        \"purpose_description\": \"Attack Classification\",\n",
    "        \"domain_description\": \"IT Security\",\n",
    "        \"training_data_description\": \"Alberto's classification data\",\n",
    "        \"model_information\": \"Sklearn Random Forest Classifier for IT Security Incident Classification scenario\",\n",
    "        \"target_column\": \"label\",\n",
    "        \"authors\": \"Jan Bauer\",\n",
    "        \"contact_information\": \"jan.bauer@uzh.ch\"\n",
    "    },\n",
    "    \"explainability\": {},\n",
    "    \"fairness\": {\n",
    "        \"question_fairness\": 5,\n",
    "        \"protected_feature\": \"connectivity\",\n",
    "        \"protected_group\": \"lambda x: x[protected_feature] == 0\",\n",
    "        \"favorable_outcome\": \"lambda x: x[target_column] == 13\"\n",
    "    },\n",
    "    \"methodology\": {\n",
    "        \"regularization\": \"none\"\n",
    "    }\n",
    "}"
   ]
  },
  {
   "cell_type": "code",
   "execution_count": 6,
   "id": "d5c8bb38-7165-48ea-896f-bb3209d29078",
   "metadata": {},
   "outputs": [],
   "source": [
    "factsheet02 = {\"general\": {\"target_column\": \"y_true\"}, \"fairness\": {\"protected_feature\": \"new\",\n",
    "        \"protected_group\": \"new\",\n",
    "        \"favorable_outcome\": \"new\"}, \"explainability\": {\"test\": \"hi\"}}"
   ]
  },
  {
   "cell_type": "code",
   "execution_count": 7,
   "id": "5bc434b7-6a52-4d4b-9730-4424ef606cb9",
   "metadata": {},
   "outputs": [],
   "source": [
    "factsheet = {}\n",
    "factsheet[\"general\"] = factsheet01.get(\"general\", {}) | factsheet02.get(\"general\", {})\n",
    "factsheet[\"fairness\"] = factsheet01.get(\"fairness\", {}) | factsheet02.get(\"fairness\", {})\n",
    "factsheet[\"explainability\"] = factsheet01.get(\"explainability\", {}) | factsheet02.get(\"explainability\", {})\n",
    "factsheet[\"robustness\"] = factsheet01.get(\"robustness\", {}) | factsheet02.get(\"robustness\", {})\n",
    "factsheet[\"methodology\"] = factsheet01.get(\"methodology\", {}) | factsheet02.get(\"methodology\", {})"
   ]
  },
  {
   "cell_type": "code",
   "execution_count": 8,
   "id": "345bf587-9a9c-4571-81b7-e2124c044303",
   "metadata": {},
   "outputs": [
    {
     "name": "stdout",
     "output_type": "stream",
     "text": [
      "{'general': {'model_name': \"Jan's Random Forest Classifier\", 'purpose_description': 'Attack Classification', 'domain_description': 'IT Security', 'training_data_description': \"Alberto's classification data\", 'model_information': 'Sklearn Random Forest Classifier for IT Security Incident Classification scenario', 'target_column': 'y_true', 'authors': 'Jan Bauer', 'contact_information': 'jan.bauer@uzh.ch'}, 'fairness': {'question_fairness': 5, 'protected_feature': 'new', 'protected_group': 'new', 'favorable_outcome': 'new'}, 'explainability': {'test': 'hi'}, 'robustness': {}, 'methodology': {'regularization': 'none'}}\n"
     ]
    }
   ],
   "source": [
    "print(factsheet)"
   ]
  },
  {
   "cell_type": "code",
   "execution_count": null,
   "id": "7364ef2f-e2ad-4149-9ddf-9b3e27875ab9",
   "metadata": {},
   "outputs": [],
   "source": []
  }
 ],
 "metadata": {
  "kernelspec": {
   "display_name": "Python 3 (ipykernel)",
   "language": "python",
   "name": "python3"
  },
  "language_info": {
   "codemirror_mode": {
    "name": "ipython",
    "version": 3
   },
   "file_extension": ".py",
   "mimetype": "text/x-python",
   "name": "python",
   "nbconvert_exporter": "python",
   "pygments_lexer": "ipython3",
   "version": "3.9.7"
  }
 },
 "nbformat": 4,
 "nbformat_minor": 5
}
